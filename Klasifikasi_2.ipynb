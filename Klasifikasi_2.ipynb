{
  "cells": [
    {
      "cell_type": "markdown",
      "metadata": {
        "id": "RgsAAnjOF_-s"
      },
      "source": [
        "# Data Understanding"
      ]
    },
    {
      "cell_type": "code",
      "execution_count": 223,
      "metadata": {
        "id": "H1drqBMxida7"
      },
      "outputs": [
        {
          "name": "stdout",
          "output_type": "stream",
          "text": [
            "Defaulting to user installation because normal site-packages is not writeable\n",
            "Requirement already satisfied: xgboost in c:\\users\\fakhr\\appdata\\roaming\\python\\python313\\site-packages (3.0.2)\n",
            "Requirement already satisfied: numpy in c:\\users\\fakhr\\appdata\\roaming\\python\\python313\\site-packages (from xgboost) (2.2.6)\n",
            "Requirement already satisfied: scipy in c:\\users\\fakhr\\appdata\\roaming\\python\\python313\\site-packages (from xgboost) (1.15.3)\n",
            "Note: you may need to restart the kernel to use updated packages.\n"
          ]
        }
      ],
      "source": [
        "%pip install xgboost\n",
        "\n",
        "import pandas as pd\n",
        "import numpy as np\n",
        "import matplotlib.pyplot as plt\n",
        "%matplotlib inline\n",
        "import seaborn as sns\n",
        "from sklearn.model_selection import GridSearchCV, cross_val_score\n",
        "from sklearn.preprocessing import StandardScaler\n",
        "from sklearn.ensemble import RandomForestClassifier, VotingClassifier\n",
        "from sklearn.tree import DecisionTreeClassifier\n",
        "from sklearn.svm import SVC\n",
        "from sklearn.neighbors import KNeighborsClassifier\n",
        "from sklearn.linear_model import LogisticRegression\n",
        "from sklearn.model_selection import train_test_split\n",
        "from sklearn.naive_bayes import GaussianNB\n",
        "from sklearn.metrics import accuracy_score, confusion_matrix, classification_report\n",
        "from xgboost import XGBClassifier\n",
        "from lightgbm import LGBMClassifier\n",
        "from sklearn.ensemble import AdaBoostClassifier, GradientBoostingClassifier\n",
        "import joblib\n",
        "import warnings\n",
        "warnings.filterwarnings('ignore')"
      ]
    },
    {
      "cell_type": "code",
      "execution_count": 224,
      "metadata": {},
      "outputs": [],
      "source": [
        "\n",
        "import warnings\n",
        "warnings.filterwarnings('ignore')"
      ]
    },
    {
      "cell_type": "code",
      "execution_count": 225,
      "metadata": {},
      "outputs": [
        {
          "name": "stdout",
          "output_type": "stream",
          "text": [
            "Defaulting to user installation because normal site-packages is not writeable\n",
            "Requirement already satisfied: xgboost in c:\\users\\fakhr\\appdata\\roaming\\python\\python313\\site-packages (3.0.2)\n",
            "Requirement already satisfied: numpy in c:\\users\\fakhr\\appdata\\roaming\\python\\python313\\site-packages (from xgboost) (2.2.6)\n",
            "Requirement already satisfied: scipy in c:\\users\\fakhr\\appdata\\roaming\\python\\python313\\site-packages (from xgboost) (1.15.3)\n",
            "Note: you may need to restart the kernel to use updated packages.\n"
          ]
        }
      ],
      "source": [
        "%pip install xgboost"
      ]
    },
    {
      "cell_type": "code",
      "execution_count": 226,
      "metadata": {},
      "outputs": [
        {
          "name": "stdout",
          "output_type": "stream",
          "text": [
            "Defaulting to user installation because normal site-packages is not writeable\n",
            "Requirement already satisfied: xgboost in c:\\users\\fakhr\\appdata\\roaming\\python\\python313\\site-packages (3.0.2)\n",
            "Requirement already satisfied: lightgbm in c:\\users\\fakhr\\appdata\\roaming\\python\\python313\\site-packages (4.6.0)\n",
            "Requirement already satisfied: numpy in c:\\users\\fakhr\\appdata\\roaming\\python\\python313\\site-packages (from xgboost) (2.2.6)\n",
            "Requirement already satisfied: scipy in c:\\users\\fakhr\\appdata\\roaming\\python\\python313\\site-packages (from xgboost) (1.15.3)\n",
            "Note: you may need to restart the kernel to use updated packages.\n"
          ]
        }
      ],
      "source": [
        "%pip install xgboost lightgbm"
      ]
    },
    {
      "cell_type": "code",
      "execution_count": 227,
      "metadata": {},
      "outputs": [
        {
          "name": "stdout",
          "output_type": "stream",
          "text": [
            "Defaulting to user installation because normal site-packages is not writeable\n",
            "Requirement already satisfied: xgboost in c:\\users\\fakhr\\appdata\\roaming\\python\\python313\\site-packages (3.0.2)\n",
            "Requirement already satisfied: numpy in c:\\users\\fakhr\\appdata\\roaming\\python\\python313\\site-packages (from xgboost) (2.2.6)\n",
            "Requirement already satisfied: scipy in c:\\users\\fakhr\\appdata\\roaming\\python\\python313\\site-packages (from xgboost) (1.15.3)\n",
            "Note: you may need to restart the kernel to use updated packages.\n"
          ]
        }
      ],
      "source": [
        "%pip install xgboost"
      ]
    },
    {
      "cell_type": "code",
      "execution_count": 228,
      "metadata": {
        "colab": {
          "base_uri": "https://localhost:8080/",
          "height": 615
        },
        "id": "51IviEzJFXc0",
        "outputId": "82949daf-9f6a-438a-a7e0-561da2bfd694"
      },
      "outputs": [
        {
          "data": {
            "text/html": [
              "<style type=\"text/css\">\n",
              "#T_895d6 th {\n",
              "  color: white;\n",
              "  background-color: #333333;\n",
              "}\n",
              "#T_895d6_row0_col0, #T_895d6_row0_col1, #T_895d6_row0_col2, #T_895d6_row0_col3, #T_895d6_row0_col4, #T_895d6_row0_col5, #T_895d6_row0_col6, #T_895d6_row0_col7, #T_895d6_row0_col8, #T_895d6_row1_col0, #T_895d6_row1_col1, #T_895d6_row1_col2, #T_895d6_row1_col3, #T_895d6_row1_col4, #T_895d6_row1_col5, #T_895d6_row1_col6, #T_895d6_row1_col7, #T_895d6_row1_col8, #T_895d6_row2_col0, #T_895d6_row2_col1, #T_895d6_row2_col2, #T_895d6_row2_col3, #T_895d6_row2_col4, #T_895d6_row2_col5, #T_895d6_row2_col6, #T_895d6_row2_col7, #T_895d6_row2_col8, #T_895d6_row3_col0, #T_895d6_row3_col1, #T_895d6_row3_col2, #T_895d6_row3_col3, #T_895d6_row3_col4, #T_895d6_row3_col5, #T_895d6_row3_col6, #T_895d6_row3_col7, #T_895d6_row3_col8, #T_895d6_row4_col0, #T_895d6_row4_col1, #T_895d6_row4_col2, #T_895d6_row4_col3, #T_895d6_row4_col4, #T_895d6_row4_col5, #T_895d6_row4_col6, #T_895d6_row4_col7, #T_895d6_row4_col8 {\n",
              "  background-color: #254E58;\n",
              "  color: #e9c46a;\n",
              "  border: 1.5px solid black;\n",
              "}\n",
              "</style>\n",
              "<table id=\"T_895d6\">\n",
              "  <thead>\n",
              "    <tr>\n",
              "      <th class=\"blank level0\" >&nbsp;</th>\n",
              "      <th id=\"T_895d6_level0_col0\" class=\"col_heading level0 col0\" >Pregnancies</th>\n",
              "      <th id=\"T_895d6_level0_col1\" class=\"col_heading level0 col1\" >Glucose</th>\n",
              "      <th id=\"T_895d6_level0_col2\" class=\"col_heading level0 col2\" >BloodPressure</th>\n",
              "      <th id=\"T_895d6_level0_col3\" class=\"col_heading level0 col3\" >SkinThickness</th>\n",
              "      <th id=\"T_895d6_level0_col4\" class=\"col_heading level0 col4\" >Insulin</th>\n",
              "      <th id=\"T_895d6_level0_col5\" class=\"col_heading level0 col5\" >BMI</th>\n",
              "      <th id=\"T_895d6_level0_col6\" class=\"col_heading level0 col6\" >DiabetesPedigreeFunction</th>\n",
              "      <th id=\"T_895d6_level0_col7\" class=\"col_heading level0 col7\" >Age</th>\n",
              "      <th id=\"T_895d6_level0_col8\" class=\"col_heading level0 col8\" >Outcome</th>\n",
              "    </tr>\n",
              "  </thead>\n",
              "  <tbody>\n",
              "    <tr>\n",
              "      <th id=\"T_895d6_level0_row0\" class=\"row_heading level0 row0\" >0</th>\n",
              "      <td id=\"T_895d6_row0_col0\" class=\"data row0 col0\" >6</td>\n",
              "      <td id=\"T_895d6_row0_col1\" class=\"data row0 col1\" >148</td>\n",
              "      <td id=\"T_895d6_row0_col2\" class=\"data row0 col2\" >72</td>\n",
              "      <td id=\"T_895d6_row0_col3\" class=\"data row0 col3\" >35</td>\n",
              "      <td id=\"T_895d6_row0_col4\" class=\"data row0 col4\" >0</td>\n",
              "      <td id=\"T_895d6_row0_col5\" class=\"data row0 col5\" >33.600000</td>\n",
              "      <td id=\"T_895d6_row0_col6\" class=\"data row0 col6\" >0.627000</td>\n",
              "      <td id=\"T_895d6_row0_col7\" class=\"data row0 col7\" >50</td>\n",
              "      <td id=\"T_895d6_row0_col8\" class=\"data row0 col8\" >1</td>\n",
              "    </tr>\n",
              "    <tr>\n",
              "      <th id=\"T_895d6_level0_row1\" class=\"row_heading level0 row1\" >1</th>\n",
              "      <td id=\"T_895d6_row1_col0\" class=\"data row1 col0\" >1</td>\n",
              "      <td id=\"T_895d6_row1_col1\" class=\"data row1 col1\" >85</td>\n",
              "      <td id=\"T_895d6_row1_col2\" class=\"data row1 col2\" >66</td>\n",
              "      <td id=\"T_895d6_row1_col3\" class=\"data row1 col3\" >29</td>\n",
              "      <td id=\"T_895d6_row1_col4\" class=\"data row1 col4\" >0</td>\n",
              "      <td id=\"T_895d6_row1_col5\" class=\"data row1 col5\" >26.600000</td>\n",
              "      <td id=\"T_895d6_row1_col6\" class=\"data row1 col6\" >0.351000</td>\n",
              "      <td id=\"T_895d6_row1_col7\" class=\"data row1 col7\" >31</td>\n",
              "      <td id=\"T_895d6_row1_col8\" class=\"data row1 col8\" >0</td>\n",
              "    </tr>\n",
              "    <tr>\n",
              "      <th id=\"T_895d6_level0_row2\" class=\"row_heading level0 row2\" >2</th>\n",
              "      <td id=\"T_895d6_row2_col0\" class=\"data row2 col0\" >8</td>\n",
              "      <td id=\"T_895d6_row2_col1\" class=\"data row2 col1\" >183</td>\n",
              "      <td id=\"T_895d6_row2_col2\" class=\"data row2 col2\" >64</td>\n",
              "      <td id=\"T_895d6_row2_col3\" class=\"data row2 col3\" >0</td>\n",
              "      <td id=\"T_895d6_row2_col4\" class=\"data row2 col4\" >0</td>\n",
              "      <td id=\"T_895d6_row2_col5\" class=\"data row2 col5\" >23.300000</td>\n",
              "      <td id=\"T_895d6_row2_col6\" class=\"data row2 col6\" >0.672000</td>\n",
              "      <td id=\"T_895d6_row2_col7\" class=\"data row2 col7\" >32</td>\n",
              "      <td id=\"T_895d6_row2_col8\" class=\"data row2 col8\" >1</td>\n",
              "    </tr>\n",
              "    <tr>\n",
              "      <th id=\"T_895d6_level0_row3\" class=\"row_heading level0 row3\" >3</th>\n",
              "      <td id=\"T_895d6_row3_col0\" class=\"data row3 col0\" >1</td>\n",
              "      <td id=\"T_895d6_row3_col1\" class=\"data row3 col1\" >89</td>\n",
              "      <td id=\"T_895d6_row3_col2\" class=\"data row3 col2\" >66</td>\n",
              "      <td id=\"T_895d6_row3_col3\" class=\"data row3 col3\" >23</td>\n",
              "      <td id=\"T_895d6_row3_col4\" class=\"data row3 col4\" >94</td>\n",
              "      <td id=\"T_895d6_row3_col5\" class=\"data row3 col5\" >28.100000</td>\n",
              "      <td id=\"T_895d6_row3_col6\" class=\"data row3 col6\" >0.167000</td>\n",
              "      <td id=\"T_895d6_row3_col7\" class=\"data row3 col7\" >21</td>\n",
              "      <td id=\"T_895d6_row3_col8\" class=\"data row3 col8\" >0</td>\n",
              "    </tr>\n",
              "    <tr>\n",
              "      <th id=\"T_895d6_level0_row4\" class=\"row_heading level0 row4\" >4</th>\n",
              "      <td id=\"T_895d6_row4_col0\" class=\"data row4 col0\" >0</td>\n",
              "      <td id=\"T_895d6_row4_col1\" class=\"data row4 col1\" >137</td>\n",
              "      <td id=\"T_895d6_row4_col2\" class=\"data row4 col2\" >40</td>\n",
              "      <td id=\"T_895d6_row4_col3\" class=\"data row4 col3\" >35</td>\n",
              "      <td id=\"T_895d6_row4_col4\" class=\"data row4 col4\" >168</td>\n",
              "      <td id=\"T_895d6_row4_col5\" class=\"data row4 col5\" >43.100000</td>\n",
              "      <td id=\"T_895d6_row4_col6\" class=\"data row4 col6\" >2.288000</td>\n",
              "      <td id=\"T_895d6_row4_col7\" class=\"data row4 col7\" >33</td>\n",
              "      <td id=\"T_895d6_row4_col8\" class=\"data row4 col8\" >1</td>\n",
              "    </tr>\n",
              "  </tbody>\n",
              "</table>\n"
            ],
            "text/plain": [
              "<pandas.io.formats.style.Styler at 0x19d2cd50f50>"
            ]
          },
          "execution_count": 228,
          "metadata": {},
          "output_type": "execute_result"
        }
      ],
      "source": [
        "import pandas as pd\n",
        "# Replace 'your_file.csv' with your actual file path\n",
        "df = pd.read_csv('Data Set Diabetes.csv', delimiter=';')\n",
        "\n",
        "styled_df = df.head(5).style\n",
        "\n",
        "# Set background color, text color, and border for the entire DataFrame\n",
        "styled_df.set_properties(**{\"background-color\": \"#254E58\", \"color\": \"#e9c46a\", \"border\": \"1.5px solid black\"})\n",
        "\n",
        "# Modify the color and background color of the table headers (th)\n",
        "styled_df.set_table_styles([\n",
        "    {\"selector\": \"th\", \"props\": [(\"color\", 'white'), (\"background-color\", \"#333333\")]}\n",
        "])"
      ]
    },
    {
      "cell_type": "markdown",
      "metadata": {
        "id": "5EDQeFUAXzLL"
      },
      "source": [
        "**Tampilkan 5 data pertama dengan styling**"
      ]
    },
    {
      "cell_type": "code",
      "execution_count": 229,
      "metadata": {
        "colab": {
          "base_uri": "https://localhost:8080/",
          "height": 230
        },
        "id": "ZJcScm9-dUD_",
        "outputId": "9e43ee8b-5378-4fd2-e815-6b1571d75124"
      },
      "outputs": [
        {
          "data": {
            "text/html": [
              "<style type=\"text/css\">\n",
              "#T_f8cc0 th {\n",
              "  color: white;\n",
              "  background-color: #333333;\n",
              "}\n",
              "#T_f8cc0_row0_col0, #T_f8cc0_row0_col1, #T_f8cc0_row0_col2, #T_f8cc0_row0_col3, #T_f8cc0_row0_col4, #T_f8cc0_row0_col5, #T_f8cc0_row0_col6, #T_f8cc0_row0_col7, #T_f8cc0_row0_col8, #T_f8cc0_row1_col0, #T_f8cc0_row1_col1, #T_f8cc0_row1_col2, #T_f8cc0_row1_col3, #T_f8cc0_row1_col4, #T_f8cc0_row1_col5, #T_f8cc0_row1_col6, #T_f8cc0_row1_col7, #T_f8cc0_row1_col8, #T_f8cc0_row2_col0, #T_f8cc0_row2_col1, #T_f8cc0_row2_col2, #T_f8cc0_row2_col3, #T_f8cc0_row2_col4, #T_f8cc0_row2_col5, #T_f8cc0_row2_col6, #T_f8cc0_row2_col7, #T_f8cc0_row2_col8, #T_f8cc0_row3_col0, #T_f8cc0_row3_col1, #T_f8cc0_row3_col2, #T_f8cc0_row3_col3, #T_f8cc0_row3_col4, #T_f8cc0_row3_col5, #T_f8cc0_row3_col6, #T_f8cc0_row3_col7, #T_f8cc0_row3_col8, #T_f8cc0_row4_col0, #T_f8cc0_row4_col1, #T_f8cc0_row4_col2, #T_f8cc0_row4_col3, #T_f8cc0_row4_col4, #T_f8cc0_row4_col5, #T_f8cc0_row4_col6, #T_f8cc0_row4_col7, #T_f8cc0_row4_col8 {\n",
              "  background-color: #254E58;\n",
              "  color: #e9c46a;\n",
              "  border: 1.5px solid black;\n",
              "}\n",
              "</style>\n",
              "<table id=\"T_f8cc0\">\n",
              "  <thead>\n",
              "    <tr>\n",
              "      <th class=\"blank level0\" >&nbsp;</th>\n",
              "      <th id=\"T_f8cc0_level0_col0\" class=\"col_heading level0 col0\" >Pregnancies</th>\n",
              "      <th id=\"T_f8cc0_level0_col1\" class=\"col_heading level0 col1\" >Glucose</th>\n",
              "      <th id=\"T_f8cc0_level0_col2\" class=\"col_heading level0 col2\" >BloodPressure</th>\n",
              "      <th id=\"T_f8cc0_level0_col3\" class=\"col_heading level0 col3\" >SkinThickness</th>\n",
              "      <th id=\"T_f8cc0_level0_col4\" class=\"col_heading level0 col4\" >Insulin</th>\n",
              "      <th id=\"T_f8cc0_level0_col5\" class=\"col_heading level0 col5\" >BMI</th>\n",
              "      <th id=\"T_f8cc0_level0_col6\" class=\"col_heading level0 col6\" >DiabetesPedigreeFunction</th>\n",
              "      <th id=\"T_f8cc0_level0_col7\" class=\"col_heading level0 col7\" >Age</th>\n",
              "      <th id=\"T_f8cc0_level0_col8\" class=\"col_heading level0 col8\" >Outcome</th>\n",
              "    </tr>\n",
              "  </thead>\n",
              "  <tbody>\n",
              "    <tr>\n",
              "      <th id=\"T_f8cc0_level0_row0\" class=\"row_heading level0 row0\" >0</th>\n",
              "      <td id=\"T_f8cc0_row0_col0\" class=\"data row0 col0\" >6</td>\n",
              "      <td id=\"T_f8cc0_row0_col1\" class=\"data row0 col1\" >148</td>\n",
              "      <td id=\"T_f8cc0_row0_col2\" class=\"data row0 col2\" >72</td>\n",
              "      <td id=\"T_f8cc0_row0_col3\" class=\"data row0 col3\" >35</td>\n",
              "      <td id=\"T_f8cc0_row0_col4\" class=\"data row0 col4\" >0</td>\n",
              "      <td id=\"T_f8cc0_row0_col5\" class=\"data row0 col5\" >33.600000</td>\n",
              "      <td id=\"T_f8cc0_row0_col6\" class=\"data row0 col6\" >0.627000</td>\n",
              "      <td id=\"T_f8cc0_row0_col7\" class=\"data row0 col7\" >50</td>\n",
              "      <td id=\"T_f8cc0_row0_col8\" class=\"data row0 col8\" >1</td>\n",
              "    </tr>\n",
              "    <tr>\n",
              "      <th id=\"T_f8cc0_level0_row1\" class=\"row_heading level0 row1\" >1</th>\n",
              "      <td id=\"T_f8cc0_row1_col0\" class=\"data row1 col0\" >1</td>\n",
              "      <td id=\"T_f8cc0_row1_col1\" class=\"data row1 col1\" >85</td>\n",
              "      <td id=\"T_f8cc0_row1_col2\" class=\"data row1 col2\" >66</td>\n",
              "      <td id=\"T_f8cc0_row1_col3\" class=\"data row1 col3\" >29</td>\n",
              "      <td id=\"T_f8cc0_row1_col4\" class=\"data row1 col4\" >0</td>\n",
              "      <td id=\"T_f8cc0_row1_col5\" class=\"data row1 col5\" >26.600000</td>\n",
              "      <td id=\"T_f8cc0_row1_col6\" class=\"data row1 col6\" >0.351000</td>\n",
              "      <td id=\"T_f8cc0_row1_col7\" class=\"data row1 col7\" >31</td>\n",
              "      <td id=\"T_f8cc0_row1_col8\" class=\"data row1 col8\" >0</td>\n",
              "    </tr>\n",
              "    <tr>\n",
              "      <th id=\"T_f8cc0_level0_row2\" class=\"row_heading level0 row2\" >2</th>\n",
              "      <td id=\"T_f8cc0_row2_col0\" class=\"data row2 col0\" >8</td>\n",
              "      <td id=\"T_f8cc0_row2_col1\" class=\"data row2 col1\" >183</td>\n",
              "      <td id=\"T_f8cc0_row2_col2\" class=\"data row2 col2\" >64</td>\n",
              "      <td id=\"T_f8cc0_row2_col3\" class=\"data row2 col3\" >0</td>\n",
              "      <td id=\"T_f8cc0_row2_col4\" class=\"data row2 col4\" >0</td>\n",
              "      <td id=\"T_f8cc0_row2_col5\" class=\"data row2 col5\" >23.300000</td>\n",
              "      <td id=\"T_f8cc0_row2_col6\" class=\"data row2 col6\" >0.672000</td>\n",
              "      <td id=\"T_f8cc0_row2_col7\" class=\"data row2 col7\" >32</td>\n",
              "      <td id=\"T_f8cc0_row2_col8\" class=\"data row2 col8\" >1</td>\n",
              "    </tr>\n",
              "    <tr>\n",
              "      <th id=\"T_f8cc0_level0_row3\" class=\"row_heading level0 row3\" >3</th>\n",
              "      <td id=\"T_f8cc0_row3_col0\" class=\"data row3 col0\" >1</td>\n",
              "      <td id=\"T_f8cc0_row3_col1\" class=\"data row3 col1\" >89</td>\n",
              "      <td id=\"T_f8cc0_row3_col2\" class=\"data row3 col2\" >66</td>\n",
              "      <td id=\"T_f8cc0_row3_col3\" class=\"data row3 col3\" >23</td>\n",
              "      <td id=\"T_f8cc0_row3_col4\" class=\"data row3 col4\" >94</td>\n",
              "      <td id=\"T_f8cc0_row3_col5\" class=\"data row3 col5\" >28.100000</td>\n",
              "      <td id=\"T_f8cc0_row3_col6\" class=\"data row3 col6\" >0.167000</td>\n",
              "      <td id=\"T_f8cc0_row3_col7\" class=\"data row3 col7\" >21</td>\n",
              "      <td id=\"T_f8cc0_row3_col8\" class=\"data row3 col8\" >0</td>\n",
              "    </tr>\n",
              "    <tr>\n",
              "      <th id=\"T_f8cc0_level0_row4\" class=\"row_heading level0 row4\" >4</th>\n",
              "      <td id=\"T_f8cc0_row4_col0\" class=\"data row4 col0\" >0</td>\n",
              "      <td id=\"T_f8cc0_row4_col1\" class=\"data row4 col1\" >137</td>\n",
              "      <td id=\"T_f8cc0_row4_col2\" class=\"data row4 col2\" >40</td>\n",
              "      <td id=\"T_f8cc0_row4_col3\" class=\"data row4 col3\" >35</td>\n",
              "      <td id=\"T_f8cc0_row4_col4\" class=\"data row4 col4\" >168</td>\n",
              "      <td id=\"T_f8cc0_row4_col5\" class=\"data row4 col5\" >43.100000</td>\n",
              "      <td id=\"T_f8cc0_row4_col6\" class=\"data row4 col6\" >2.288000</td>\n",
              "      <td id=\"T_f8cc0_row4_col7\" class=\"data row4 col7\" >33</td>\n",
              "      <td id=\"T_f8cc0_row4_col8\" class=\"data row4 col8\" >1</td>\n",
              "    </tr>\n",
              "  </tbody>\n",
              "</table>\n"
            ],
            "text/plain": [
              "<pandas.io.formats.style.Styler at 0x19d2cd51450>"
            ]
          },
          "execution_count": 229,
          "metadata": {},
          "output_type": "execute_result"
        }
      ],
      "source": [
        "styled_df = df.head(5).style\n",
        "\n",
        "# Set background color, text color, and border for the entire DataFrame\n",
        "styled_df.set_properties(**{\"background-color\": \"#254E58\", \"color\": \"#e9c46a\", \"border\": \"1.5px solid black\"})\n",
        "\n",
        "# Modify the color and background color of the table headers (th)\n",
        "styled_df.set_table_styles([\n",
        "    {\"selector\": \"th\", \"props\": [(\"color\", 'white'), (\"background-color\", \"#333333\")]}\n",
        "])"
      ]
    },
    {
      "cell_type": "markdown",
      "metadata": {
        "id": "rs4ybMWxYBHk"
      },
      "source": [
        "**Informasi dasar dataset**"
      ]
    },
    {
      "cell_type": "code",
      "execution_count": 230,
      "metadata": {
        "colab": {
          "base_uri": "https://localhost:8080/"
        },
        "id": "s0s5xQ3ldbY1",
        "outputId": "df40787f-5cf9-43d4-88d3-4cbb85315b8a"
      },
      "outputs": [
        {
          "name": "stdout",
          "output_type": "stream",
          "text": [
            "<class 'pandas.core.frame.DataFrame'>\n",
            "RangeIndex: 768 entries, 0 to 767\n",
            "Data columns (total 9 columns):\n",
            " #   Column                    Non-Null Count  Dtype  \n",
            "---  ------                    --------------  -----  \n",
            " 0   Pregnancies               768 non-null    int64  \n",
            " 1   Glucose                   768 non-null    int64  \n",
            " 2   BloodPressure             768 non-null    int64  \n",
            " 3   SkinThickness             768 non-null    int64  \n",
            " 4   Insulin                   768 non-null    int64  \n",
            " 5   BMI                       768 non-null    float64\n",
            " 6   DiabetesPedigreeFunction  768 non-null    float64\n",
            " 7   Age                       768 non-null    int64  \n",
            " 8   Outcome                   768 non-null    int64  \n",
            "dtypes: float64(2), int64(7)\n",
            "memory usage: 54.1 KB\n"
          ]
        }
      ],
      "source": [
        "df.info()"
      ]
    },
    {
      "cell_type": "markdown",
      "metadata": {
        "id": "-8f4-CjdYJ5D"
      },
      "source": [
        "**Ukuran dataset**"
      ]
    },
    {
      "cell_type": "code",
      "execution_count": 231,
      "metadata": {
        "colab": {
          "base_uri": "https://localhost:8080/"
        },
        "id": "W8JvYqPlde_C",
        "outputId": "ed035e5f-08c0-4284-9eba-f5802f0496d9"
      },
      "outputs": [
        {
          "name": "stdout",
          "output_type": "stream",
          "text": [
            "Number of Rows : 768 \n",
            "Number of Columns : 9\n"
          ]
        }
      ],
      "source": [
        "rows , col =  df.shape\n",
        "print(f\"Number of Rows : {rows} \\nNumber of Columns : {col}\")"
      ]
    },
    {
      "cell_type": "code",
      "execution_count": 232,
      "metadata": {},
      "outputs": [
        {
          "name": "stdout",
          "output_type": "stream",
          "text": [
            "Index(['Pregnancies', 'Glucose', 'BloodPressure', 'SkinThickness', 'Insulin',\n",
            "       'BMI', 'DiabetesPedigreeFunction', 'Age', 'Outcome'],\n",
            "      dtype='object')\n"
          ]
        }
      ],
      "source": [
        "print(df.columns)"
      ]
    },
    {
      "cell_type": "code",
      "execution_count": 233,
      "metadata": {},
      "outputs": [],
      "source": [
        "df.columns = df.columns.str.strip() "
      ]
    },
    {
      "cell_type": "markdown",
      "metadata": {
        "id": "f6p1Au5vYN3_"
      },
      "source": [
        "**Periksa nilai nol**"
      ]
    },
    {
      "cell_type": "code",
      "execution_count": 234,
      "metadata": {
        "colab": {
          "base_uri": "https://localhost:8080/"
        },
        "id": "y2mPAqIndlHF",
        "outputId": "af8b3dd8-f6fe-40a1-ff9c-404b108b009b"
      },
      "outputs": [
        {
          "name": "stdout",
          "output_type": "stream",
          "text": [
            "Index(['Pregnancies', 'Glucose', 'BloodPressure', 'SkinThickness', 'Insulin',\n",
            "       'BMI', 'DiabetesPedigreeFunction', 'Age', 'Outcome'],\n",
            "      dtype='object')\n",
            "Jumlah nilai 0 di kolom Glucose: 5\n",
            "Jumlah nilai 0 di kolom BloodPressure: 35\n",
            "Jumlah nilai 0 di kolom SkinThickness: 227\n",
            "Jumlah nilai 0 di kolom Insulin: 374\n",
            "Jumlah nilai 0 di kolom BMI: 11\n"
          ]
        }
      ],
      "source": [
        "# Check and clean column names\n",
        "print(df.columns)\n",
        "df.columns = df.columns.str.strip()\n",
        "\n",
        "column_zero = ['Glucose', 'BloodPressure', 'SkinThickness', 'Insulin', 'BMI']\n",
        "for col in column_zero:\n",
        "    if col in df.columns:\n",
        "        print(f'Jumlah nilai 0 di kolom {col}: {sum(df[col] == 0)}')\n",
        "    else:\n",
        "        print(f\"Kolom '{col}' tidak ditemukan di DataFrame.\")"
      ]
    },
    {
      "cell_type": "markdown",
      "metadata": {
        "id": "79rC4GiwYTj7"
      },
      "source": [
        "**Statistik deskriptif dengan styling**"
      ]
    },
    {
      "cell_type": "code",
      "execution_count": 235,
      "metadata": {
        "colab": {
          "base_uri": "https://localhost:8080/",
          "height": 338
        },
        "id": "LERtvevjdml1",
        "outputId": "03243470-821d-44b5-b42f-d365b587b92d"
      },
      "outputs": [
        {
          "data": {
            "text/html": [
              "<style type=\"text/css\">\n",
              "#T_36a44 th {\n",
              "  background-color: #254E58;\n",
              "  color: white;\n",
              "  font-weight: bold;\n",
              "  text-align: left;\n",
              "  padding: 8px;\n",
              "}\n",
              "#T_36a44 td {\n",
              "  padding: 8px;\n",
              "  color: #333333;\n",
              "}\n",
              "#T_36a44_row0_col0, #T_36a44_row0_col1, #T_36a44_row0_col2, #T_36a44_row0_col3, #T_36a44_row0_col4, #T_36a44_row0_col5, #T_36a44_row0_col6, #T_36a44_row0_col7, #T_36a44_row0_col8, #T_36a44_row1_col0, #T_36a44_row1_col1, #T_36a44_row1_col2, #T_36a44_row1_col3, #T_36a44_row1_col4, #T_36a44_row1_col5, #T_36a44_row1_col6, #T_36a44_row1_col7, #T_36a44_row1_col8, #T_36a44_row2_col0, #T_36a44_row2_col1, #T_36a44_row2_col2, #T_36a44_row2_col3, #T_36a44_row2_col4, #T_36a44_row2_col5, #T_36a44_row2_col6, #T_36a44_row2_col7, #T_36a44_row2_col8, #T_36a44_row3_col0, #T_36a44_row3_col1, #T_36a44_row3_col2, #T_36a44_row3_col3, #T_36a44_row3_col4, #T_36a44_row3_col5, #T_36a44_row3_col6, #T_36a44_row3_col7, #T_36a44_row3_col8, #T_36a44_row4_col0, #T_36a44_row4_col1, #T_36a44_row4_col2, #T_36a44_row4_col3, #T_36a44_row4_col4, #T_36a44_row4_col5, #T_36a44_row4_col6, #T_36a44_row4_col7, #T_36a44_row4_col8, #T_36a44_row5_col0, #T_36a44_row5_col1, #T_36a44_row5_col2, #T_36a44_row5_col3, #T_36a44_row5_col4, #T_36a44_row5_col5, #T_36a44_row5_col6, #T_36a44_row5_col7, #T_36a44_row5_col8, #T_36a44_row6_col0, #T_36a44_row6_col1, #T_36a44_row6_col2, #T_36a44_row6_col3, #T_36a44_row6_col4, #T_36a44_row6_col5, #T_36a44_row6_col6, #T_36a44_row6_col7, #T_36a44_row6_col8, #T_36a44_row7_col0, #T_36a44_row7_col1, #T_36a44_row7_col2, #T_36a44_row7_col3, #T_36a44_row7_col4, #T_36a44_row7_col5, #T_36a44_row7_col6, #T_36a44_row7_col7, #T_36a44_row7_col8 {\n",
              "  font-size: 14px;\n",
              "  background-color: #F5F5F5;\n",
              "  color: #333333;\n",
              "  border-collapse: collapse;\n",
              "  margin: 10px;\n",
              "}\n",
              "</style>\n",
              "<table id=\"T_36a44\">\n",
              "  <thead>\n",
              "    <tr>\n",
              "      <th class=\"blank level0\" >&nbsp;</th>\n",
              "      <th id=\"T_36a44_level0_col0\" class=\"col_heading level0 col0\" >Pregnancies</th>\n",
              "      <th id=\"T_36a44_level0_col1\" class=\"col_heading level0 col1\" >Glucose</th>\n",
              "      <th id=\"T_36a44_level0_col2\" class=\"col_heading level0 col2\" >BloodPressure</th>\n",
              "      <th id=\"T_36a44_level0_col3\" class=\"col_heading level0 col3\" >SkinThickness</th>\n",
              "      <th id=\"T_36a44_level0_col4\" class=\"col_heading level0 col4\" >Insulin</th>\n",
              "      <th id=\"T_36a44_level0_col5\" class=\"col_heading level0 col5\" >BMI</th>\n",
              "      <th id=\"T_36a44_level0_col6\" class=\"col_heading level0 col6\" >DiabetesPedigreeFunction</th>\n",
              "      <th id=\"T_36a44_level0_col7\" class=\"col_heading level0 col7\" >Age</th>\n",
              "      <th id=\"T_36a44_level0_col8\" class=\"col_heading level0 col8\" >Outcome</th>\n",
              "    </tr>\n",
              "  </thead>\n",
              "  <tbody>\n",
              "    <tr>\n",
              "      <th id=\"T_36a44_level0_row0\" class=\"row_heading level0 row0\" >count</th>\n",
              "      <td id=\"T_36a44_row0_col0\" class=\"data row0 col0\" >768.000000</td>\n",
              "      <td id=\"T_36a44_row0_col1\" class=\"data row0 col1\" >768.000000</td>\n",
              "      <td id=\"T_36a44_row0_col2\" class=\"data row0 col2\" >768.000000</td>\n",
              "      <td id=\"T_36a44_row0_col3\" class=\"data row0 col3\" >768.000000</td>\n",
              "      <td id=\"T_36a44_row0_col4\" class=\"data row0 col4\" >768.000000</td>\n",
              "      <td id=\"T_36a44_row0_col5\" class=\"data row0 col5\" >768.000000</td>\n",
              "      <td id=\"T_36a44_row0_col6\" class=\"data row0 col6\" >768.000000</td>\n",
              "      <td id=\"T_36a44_row0_col7\" class=\"data row0 col7\" >768.000000</td>\n",
              "      <td id=\"T_36a44_row0_col8\" class=\"data row0 col8\" >768.000000</td>\n",
              "    </tr>\n",
              "    <tr>\n",
              "      <th id=\"T_36a44_level0_row1\" class=\"row_heading level0 row1\" >mean</th>\n",
              "      <td id=\"T_36a44_row1_col0\" class=\"data row1 col0\" >3.845052</td>\n",
              "      <td id=\"T_36a44_row1_col1\" class=\"data row1 col1\" >120.894531</td>\n",
              "      <td id=\"T_36a44_row1_col2\" class=\"data row1 col2\" >69.105469</td>\n",
              "      <td id=\"T_36a44_row1_col3\" class=\"data row1 col3\" >20.536458</td>\n",
              "      <td id=\"T_36a44_row1_col4\" class=\"data row1 col4\" >79.799479</td>\n",
              "      <td id=\"T_36a44_row1_col5\" class=\"data row1 col5\" >31.992578</td>\n",
              "      <td id=\"T_36a44_row1_col6\" class=\"data row1 col6\" >0.471876</td>\n",
              "      <td id=\"T_36a44_row1_col7\" class=\"data row1 col7\" >33.240885</td>\n",
              "      <td id=\"T_36a44_row1_col8\" class=\"data row1 col8\" >0.348958</td>\n",
              "    </tr>\n",
              "    <tr>\n",
              "      <th id=\"T_36a44_level0_row2\" class=\"row_heading level0 row2\" >std</th>\n",
              "      <td id=\"T_36a44_row2_col0\" class=\"data row2 col0\" >3.369578</td>\n",
              "      <td id=\"T_36a44_row2_col1\" class=\"data row2 col1\" >31.972618</td>\n",
              "      <td id=\"T_36a44_row2_col2\" class=\"data row2 col2\" >19.355807</td>\n",
              "      <td id=\"T_36a44_row2_col3\" class=\"data row2 col3\" >15.952218</td>\n",
              "      <td id=\"T_36a44_row2_col4\" class=\"data row2 col4\" >115.244002</td>\n",
              "      <td id=\"T_36a44_row2_col5\" class=\"data row2 col5\" >7.884160</td>\n",
              "      <td id=\"T_36a44_row2_col6\" class=\"data row2 col6\" >0.331329</td>\n",
              "      <td id=\"T_36a44_row2_col7\" class=\"data row2 col7\" >11.760232</td>\n",
              "      <td id=\"T_36a44_row2_col8\" class=\"data row2 col8\" >0.476951</td>\n",
              "    </tr>\n",
              "    <tr>\n",
              "      <th id=\"T_36a44_level0_row3\" class=\"row_heading level0 row3\" >min</th>\n",
              "      <td id=\"T_36a44_row3_col0\" class=\"data row3 col0\" >0.000000</td>\n",
              "      <td id=\"T_36a44_row3_col1\" class=\"data row3 col1\" >0.000000</td>\n",
              "      <td id=\"T_36a44_row3_col2\" class=\"data row3 col2\" >0.000000</td>\n",
              "      <td id=\"T_36a44_row3_col3\" class=\"data row3 col3\" >0.000000</td>\n",
              "      <td id=\"T_36a44_row3_col4\" class=\"data row3 col4\" >0.000000</td>\n",
              "      <td id=\"T_36a44_row3_col5\" class=\"data row3 col5\" >0.000000</td>\n",
              "      <td id=\"T_36a44_row3_col6\" class=\"data row3 col6\" >0.078000</td>\n",
              "      <td id=\"T_36a44_row3_col7\" class=\"data row3 col7\" >21.000000</td>\n",
              "      <td id=\"T_36a44_row3_col8\" class=\"data row3 col8\" >0.000000</td>\n",
              "    </tr>\n",
              "    <tr>\n",
              "      <th id=\"T_36a44_level0_row4\" class=\"row_heading level0 row4\" >25%</th>\n",
              "      <td id=\"T_36a44_row4_col0\" class=\"data row4 col0\" >1.000000</td>\n",
              "      <td id=\"T_36a44_row4_col1\" class=\"data row4 col1\" >99.000000</td>\n",
              "      <td id=\"T_36a44_row4_col2\" class=\"data row4 col2\" >62.000000</td>\n",
              "      <td id=\"T_36a44_row4_col3\" class=\"data row4 col3\" >0.000000</td>\n",
              "      <td id=\"T_36a44_row4_col4\" class=\"data row4 col4\" >0.000000</td>\n",
              "      <td id=\"T_36a44_row4_col5\" class=\"data row4 col5\" >27.300000</td>\n",
              "      <td id=\"T_36a44_row4_col6\" class=\"data row4 col6\" >0.243750</td>\n",
              "      <td id=\"T_36a44_row4_col7\" class=\"data row4 col7\" >24.000000</td>\n",
              "      <td id=\"T_36a44_row4_col8\" class=\"data row4 col8\" >0.000000</td>\n",
              "    </tr>\n",
              "    <tr>\n",
              "      <th id=\"T_36a44_level0_row5\" class=\"row_heading level0 row5\" >50%</th>\n",
              "      <td id=\"T_36a44_row5_col0\" class=\"data row5 col0\" >3.000000</td>\n",
              "      <td id=\"T_36a44_row5_col1\" class=\"data row5 col1\" >117.000000</td>\n",
              "      <td id=\"T_36a44_row5_col2\" class=\"data row5 col2\" >72.000000</td>\n",
              "      <td id=\"T_36a44_row5_col3\" class=\"data row5 col3\" >23.000000</td>\n",
              "      <td id=\"T_36a44_row5_col4\" class=\"data row5 col4\" >30.500000</td>\n",
              "      <td id=\"T_36a44_row5_col5\" class=\"data row5 col5\" >32.000000</td>\n",
              "      <td id=\"T_36a44_row5_col6\" class=\"data row5 col6\" >0.372500</td>\n",
              "      <td id=\"T_36a44_row5_col7\" class=\"data row5 col7\" >29.000000</td>\n",
              "      <td id=\"T_36a44_row5_col8\" class=\"data row5 col8\" >0.000000</td>\n",
              "    </tr>\n",
              "    <tr>\n",
              "      <th id=\"T_36a44_level0_row6\" class=\"row_heading level0 row6\" >75%</th>\n",
              "      <td id=\"T_36a44_row6_col0\" class=\"data row6 col0\" >6.000000</td>\n",
              "      <td id=\"T_36a44_row6_col1\" class=\"data row6 col1\" >140.250000</td>\n",
              "      <td id=\"T_36a44_row6_col2\" class=\"data row6 col2\" >80.000000</td>\n",
              "      <td id=\"T_36a44_row6_col3\" class=\"data row6 col3\" >32.000000</td>\n",
              "      <td id=\"T_36a44_row6_col4\" class=\"data row6 col4\" >127.250000</td>\n",
              "      <td id=\"T_36a44_row6_col5\" class=\"data row6 col5\" >36.600000</td>\n",
              "      <td id=\"T_36a44_row6_col6\" class=\"data row6 col6\" >0.626250</td>\n",
              "      <td id=\"T_36a44_row6_col7\" class=\"data row6 col7\" >41.000000</td>\n",
              "      <td id=\"T_36a44_row6_col8\" class=\"data row6 col8\" >1.000000</td>\n",
              "    </tr>\n",
              "    <tr>\n",
              "      <th id=\"T_36a44_level0_row7\" class=\"row_heading level0 row7\" >max</th>\n",
              "      <td id=\"T_36a44_row7_col0\" class=\"data row7 col0\" >17.000000</td>\n",
              "      <td id=\"T_36a44_row7_col1\" class=\"data row7 col1\" >199.000000</td>\n",
              "      <td id=\"T_36a44_row7_col2\" class=\"data row7 col2\" >122.000000</td>\n",
              "      <td id=\"T_36a44_row7_col3\" class=\"data row7 col3\" >99.000000</td>\n",
              "      <td id=\"T_36a44_row7_col4\" class=\"data row7 col4\" >846.000000</td>\n",
              "      <td id=\"T_36a44_row7_col5\" class=\"data row7 col5\" >67.100000</td>\n",
              "      <td id=\"T_36a44_row7_col6\" class=\"data row7 col6\" >2.420000</td>\n",
              "      <td id=\"T_36a44_row7_col7\" class=\"data row7 col7\" >81.000000</td>\n",
              "      <td id=\"T_36a44_row7_col8\" class=\"data row7 col8\" >1.000000</td>\n",
              "    </tr>\n",
              "  </tbody>\n",
              "</table>\n"
            ],
            "text/plain": [
              "<pandas.io.formats.style.Styler at 0x19d2b500cd0>"
            ]
          },
          "execution_count": 235,
          "metadata": {},
          "output_type": "execute_result"
        }
      ],
      "source": [
        "styled_df = df.describe().style \\\n",
        "    .set_table_styles([\n",
        "        {'selector': 'th', 'props': [\n",
        "            ('background-color', '#254E58'),\n",
        "            ('color', 'white'),\n",
        "            ('font-weight', 'bold'),\n",
        "            ('text-align', 'left'),\n",
        "            ('padding', '8px')]\n",
        "        },\n",
        "        {'selector': 'td', 'props': [\n",
        "            ('padding', '8px'),\n",
        "            ('color', '#333333')]  # warna font sel isi\n",
        "        }\n",
        "    ]) \\\n",
        "    .set_properties(**{\n",
        "        'font-size': '14px',\n",
        "        'background-color': '#F5F5F5',\n",
        "        'color': '#333333',  # warna font default\n",
        "        'border-collapse': 'collapse',\n",
        "        'margin': '10px'\n",
        "    })\n",
        "\n",
        "# Tampilkan styled DataFrame\n",
        "styled_df\n"
      ]
    },
    {
      "cell_type": "markdown",
      "metadata": {
        "id": "GmQUiV7-FWD0"
      },
      "source": []
    },
    {
      "cell_type": "markdown",
      "metadata": {
        "id": "szOaMHUdGTAL"
      },
      "source": [
        "# Data Preparation"
      ]
    },
    {
      "cell_type": "markdown",
      "metadata": {
        "id": "6YfZNw4YGgE9"
      },
      "source": [
        "Ganti 0 dengan NaN"
      ]
    },
    {
      "cell_type": "code",
      "execution_count": 236,
      "metadata": {
        "id": "nk-D8XduGa19"
      },
      "outputs": [],
      "source": [
        "import numpy as np\n",
        "\n",
        "for col in column_zero:\n",
        "    df[col] = df[col].replace(0, np.nan)"
      ]
    },
    {
      "cell_type": "markdown",
      "metadata": {
        "id": "CYG4aOijJRK0"
      },
      "source": [
        "**Cek missing values**"
      ]
    },
    {
      "cell_type": "code",
      "execution_count": 237,
      "metadata": {
        "colab": {
          "base_uri": "https://localhost:8080/"
        },
        "id": "Lw0AC1_uJPAe",
        "outputId": "f923b3a5-003e-4129-fe00-ef3021ab3485"
      },
      "outputs": [
        {
          "name": "stdout",
          "output_type": "stream",
          "text": [
            "Jumlah missing values per kolom:\n",
            "Pregnancies                   0\n",
            "Glucose                       5\n",
            "BloodPressure                35\n",
            "SkinThickness               227\n",
            "Insulin                     374\n",
            "BMI                          11\n",
            "DiabetesPedigreeFunction      0\n",
            "Age                           0\n",
            "Outcome                       0\n",
            "dtype: int64\n",
            "Persentase missing values per kolom (%):\n",
            "Pregnancies                  0.00\n",
            "Glucose                      0.65\n",
            "BloodPressure                4.56\n",
            "SkinThickness               29.56\n",
            "Insulin                     48.70\n",
            "BMI                          1.43\n",
            "DiabetesPedigreeFunction     0.00\n",
            "Age                          0.00\n",
            "Outcome                      0.00\n",
            "dtype: float64\n",
            "Jumlah baris dengan minimal 1 missing value:\n",
            "376\n"
          ]
        }
      ],
      "source": [
        "print(\"Jumlah missing values per kolom:\")\n",
        "print(df.isnull().sum())\n",
        "print(\"Persentase missing values per kolom (%):\")\n",
        "print((df.isnull().mean() * 100).round(2))\n",
        "print(\"Jumlah baris dengan minimal 1 missing value:\")\n",
        "print(df.isnull().any(axis=1).sum())"
      ]
    },
    {
      "cell_type": "code",
      "execution_count": 238,
      "metadata": {},
      "outputs": [],
      "source": [
        "df.drop(columns=['Insulin', 'SkinThickness'], inplace=True)"
      ]
    },
    {
      "cell_type": "code",
      "execution_count": 239,
      "metadata": {},
      "outputs": [
        {
          "name": "stdout",
          "output_type": "stream",
          "text": [
            "Index(['Pregnancies', 'Glucose', 'BloodPressure', 'BMI',\n",
            "       'DiabetesPedigreeFunction', 'Age', 'Outcome'],\n",
            "      dtype='object')\n"
          ]
        }
      ],
      "source": [
        "print(df.columns)"
      ]
    },
    {
      "cell_type": "markdown",
      "metadata": {
        "id": "CrxeAD8jYfR2"
      },
      "source": [
        "Isi missing value dengan madian kolom"
      ]
    },
    {
      "cell_type": "code",
      "execution_count": 240,
      "metadata": {
        "id": "t_K6jVxeYb9-"
      },
      "outputs": [],
      "source": [
        "df.fillna(df.median(), inplace=True)"
      ]
    },
    {
      "cell_type": "markdown",
      "metadata": {
        "id": "nmWSj4OCnz-4"
      },
      "source": [
        "Pisahkan fitur dan target"
      ]
    },
    {
      "cell_type": "code",
      "execution_count": 241,
      "metadata": {
        "id": "hSkE7YaTn5GG"
      },
      "outputs": [],
      "source": [
        "x = df.drop('Outcome', axis=1)\n",
        "y = df['Outcome']"
      ]
    },
    {
      "cell_type": "markdown",
      "metadata": {
        "id": "SgTQP2IJoXoE"
      },
      "source": [
        "# Modelling"
      ]
    },
    {
      "cell_type": "markdown",
      "metadata": {
        "id": "9x-pOPjVobso"
      },
      "source": [
        "Split data train-test 80:20"
      ]
    },
    {
      "cell_type": "code",
      "execution_count": 242,
      "metadata": {
        "id": "WVvtVm4-oavZ"
      },
      "outputs": [],
      "source": [
        "X_train, X_test,y_train, y_test = train_test_split(x, y, test_size=0.2, random_state=42)"
      ]
    },
    {
      "cell_type": "markdown",
      "metadata": {
        "id": "q1SJmJSepcT_"
      },
      "source": [
        "**Inisialisasi model Naive Bayes**"
      ]
    },
    {
      "cell_type": "code",
      "execution_count": 243,
      "metadata": {
        "id": "NsqVHtLGpeTX"
      },
      "outputs": [],
      "source": [
        "model = GaussianNB()"
      ]
    },
    {
      "cell_type": "markdown",
      "metadata": {
        "id": "YBGY-lR9pkdU"
      },
      "source": [
        "**Latih model**"
      ]
    },
    {
      "cell_type": "code",
      "execution_count": 244,
      "metadata": {
        "colab": {
          "base_uri": "https://localhost:8080/",
          "height": 80
        },
        "id": "aYP4kTB5pl_x",
        "outputId": "cc2b452b-2781-4a5e-c791-2fa4d7dbdfe6"
      },
      "outputs": [
        {
          "data": {
            "text/html": [
              "<style>#sk-container-id-8 {\n",
              "  /* Definition of color scheme common for light and dark mode */\n",
              "  --sklearn-color-text: #000;\n",
              "  --sklearn-color-text-muted: #666;\n",
              "  --sklearn-color-line: gray;\n",
              "  /* Definition of color scheme for unfitted estimators */\n",
              "  --sklearn-color-unfitted-level-0: #fff5e6;\n",
              "  --sklearn-color-unfitted-level-1: #f6e4d2;\n",
              "  --sklearn-color-unfitted-level-2: #ffe0b3;\n",
              "  --sklearn-color-unfitted-level-3: chocolate;\n",
              "  /* Definition of color scheme for fitted estimators */\n",
              "  --sklearn-color-fitted-level-0: #f0f8ff;\n",
              "  --sklearn-color-fitted-level-1: #d4ebff;\n",
              "  --sklearn-color-fitted-level-2: #b3dbfd;\n",
              "  --sklearn-color-fitted-level-3: cornflowerblue;\n",
              "\n",
              "  /* Specific color for light theme */\n",
              "  --sklearn-color-text-on-default-background: var(--sg-text-color, var(--theme-code-foreground, var(--jp-content-font-color1, black)));\n",
              "  --sklearn-color-background: var(--sg-background-color, var(--theme-background, var(--jp-layout-color0, white)));\n",
              "  --sklearn-color-border-box: var(--sg-text-color, var(--theme-code-foreground, var(--jp-content-font-color1, black)));\n",
              "  --sklearn-color-icon: #696969;\n",
              "\n",
              "  @media (prefers-color-scheme: dark) {\n",
              "    /* Redefinition of color scheme for dark theme */\n",
              "    --sklearn-color-text-on-default-background: var(--sg-text-color, var(--theme-code-foreground, var(--jp-content-font-color1, white)));\n",
              "    --sklearn-color-background: var(--sg-background-color, var(--theme-background, var(--jp-layout-color0, #111)));\n",
              "    --sklearn-color-border-box: var(--sg-text-color, var(--theme-code-foreground, var(--jp-content-font-color1, white)));\n",
              "    --sklearn-color-icon: #878787;\n",
              "  }\n",
              "}\n",
              "\n",
              "#sk-container-id-8 {\n",
              "  color: var(--sklearn-color-text);\n",
              "}\n",
              "\n",
              "#sk-container-id-8 pre {\n",
              "  padding: 0;\n",
              "}\n",
              "\n",
              "#sk-container-id-8 input.sk-hidden--visually {\n",
              "  border: 0;\n",
              "  clip: rect(1px 1px 1px 1px);\n",
              "  clip: rect(1px, 1px, 1px, 1px);\n",
              "  height: 1px;\n",
              "  margin: -1px;\n",
              "  overflow: hidden;\n",
              "  padding: 0;\n",
              "  position: absolute;\n",
              "  width: 1px;\n",
              "}\n",
              "\n",
              "#sk-container-id-8 div.sk-dashed-wrapped {\n",
              "  border: 1px dashed var(--sklearn-color-line);\n",
              "  margin: 0 0.4em 0.5em 0.4em;\n",
              "  box-sizing: border-box;\n",
              "  padding-bottom: 0.4em;\n",
              "  background-color: var(--sklearn-color-background);\n",
              "}\n",
              "\n",
              "#sk-container-id-8 div.sk-container {\n",
              "  /* jupyter's `normalize.less` sets `[hidden] { display: none; }`\n",
              "     but bootstrap.min.css set `[hidden] { display: none !important; }`\n",
              "     so we also need the `!important` here to be able to override the\n",
              "     default hidden behavior on the sphinx rendered scikit-learn.org.\n",
              "     See: https://github.com/scikit-learn/scikit-learn/issues/21755 */\n",
              "  display: inline-block !important;\n",
              "  position: relative;\n",
              "}\n",
              "\n",
              "#sk-container-id-8 div.sk-text-repr-fallback {\n",
              "  display: none;\n",
              "}\n",
              "\n",
              "div.sk-parallel-item,\n",
              "div.sk-serial,\n",
              "div.sk-item {\n",
              "  /* draw centered vertical line to link estimators */\n",
              "  background-image: linear-gradient(var(--sklearn-color-text-on-default-background), var(--sklearn-color-text-on-default-background));\n",
              "  background-size: 2px 100%;\n",
              "  background-repeat: no-repeat;\n",
              "  background-position: center center;\n",
              "}\n",
              "\n",
              "/* Parallel-specific style estimator block */\n",
              "\n",
              "#sk-container-id-8 div.sk-parallel-item::after {\n",
              "  content: \"\";\n",
              "  width: 100%;\n",
              "  border-bottom: 2px solid var(--sklearn-color-text-on-default-background);\n",
              "  flex-grow: 1;\n",
              "}\n",
              "\n",
              "#sk-container-id-8 div.sk-parallel {\n",
              "  display: flex;\n",
              "  align-items: stretch;\n",
              "  justify-content: center;\n",
              "  background-color: var(--sklearn-color-background);\n",
              "  position: relative;\n",
              "}\n",
              "\n",
              "#sk-container-id-8 div.sk-parallel-item {\n",
              "  display: flex;\n",
              "  flex-direction: column;\n",
              "}\n",
              "\n",
              "#sk-container-id-8 div.sk-parallel-item:first-child::after {\n",
              "  align-self: flex-end;\n",
              "  width: 50%;\n",
              "}\n",
              "\n",
              "#sk-container-id-8 div.sk-parallel-item:last-child::after {\n",
              "  align-self: flex-start;\n",
              "  width: 50%;\n",
              "}\n",
              "\n",
              "#sk-container-id-8 div.sk-parallel-item:only-child::after {\n",
              "  width: 0;\n",
              "}\n",
              "\n",
              "/* Serial-specific style estimator block */\n",
              "\n",
              "#sk-container-id-8 div.sk-serial {\n",
              "  display: flex;\n",
              "  flex-direction: column;\n",
              "  align-items: center;\n",
              "  background-color: var(--sklearn-color-background);\n",
              "  padding-right: 1em;\n",
              "  padding-left: 1em;\n",
              "}\n",
              "\n",
              "\n",
              "/* Toggleable style: style used for estimator/Pipeline/ColumnTransformer box that is\n",
              "clickable and can be expanded/collapsed.\n",
              "- Pipeline and ColumnTransformer use this feature and define the default style\n",
              "- Estimators will overwrite some part of the style using the `sk-estimator` class\n",
              "*/\n",
              "\n",
              "/* Pipeline and ColumnTransformer style (default) */\n",
              "\n",
              "#sk-container-id-8 div.sk-toggleable {\n",
              "  /* Default theme specific background. It is overwritten whether we have a\n",
              "  specific estimator or a Pipeline/ColumnTransformer */\n",
              "  background-color: var(--sklearn-color-background);\n",
              "}\n",
              "\n",
              "/* Toggleable label */\n",
              "#sk-container-id-8 label.sk-toggleable__label {\n",
              "  cursor: pointer;\n",
              "  display: flex;\n",
              "  width: 100%;\n",
              "  margin-bottom: 0;\n",
              "  padding: 0.5em;\n",
              "  box-sizing: border-box;\n",
              "  text-align: center;\n",
              "  align-items: start;\n",
              "  justify-content: space-between;\n",
              "  gap: 0.5em;\n",
              "}\n",
              "\n",
              "#sk-container-id-8 label.sk-toggleable__label .caption {\n",
              "  font-size: 0.6rem;\n",
              "  font-weight: lighter;\n",
              "  color: var(--sklearn-color-text-muted);\n",
              "}\n",
              "\n",
              "#sk-container-id-8 label.sk-toggleable__label-arrow:before {\n",
              "  /* Arrow on the left of the label */\n",
              "  content: \"▸\";\n",
              "  float: left;\n",
              "  margin-right: 0.25em;\n",
              "  color: var(--sklearn-color-icon);\n",
              "}\n",
              "\n",
              "#sk-container-id-8 label.sk-toggleable__label-arrow:hover:before {\n",
              "  color: var(--sklearn-color-text);\n",
              "}\n",
              "\n",
              "/* Toggleable content - dropdown */\n",
              "\n",
              "#sk-container-id-8 div.sk-toggleable__content {\n",
              "  max-height: 0;\n",
              "  max-width: 0;\n",
              "  overflow: hidden;\n",
              "  text-align: left;\n",
              "  /* unfitted */\n",
              "  background-color: var(--sklearn-color-unfitted-level-0);\n",
              "}\n",
              "\n",
              "#sk-container-id-8 div.sk-toggleable__content.fitted {\n",
              "  /* fitted */\n",
              "  background-color: var(--sklearn-color-fitted-level-0);\n",
              "}\n",
              "\n",
              "#sk-container-id-8 div.sk-toggleable__content pre {\n",
              "  margin: 0.2em;\n",
              "  border-radius: 0.25em;\n",
              "  color: var(--sklearn-color-text);\n",
              "  /* unfitted */\n",
              "  background-color: var(--sklearn-color-unfitted-level-0);\n",
              "}\n",
              "\n",
              "#sk-container-id-8 div.sk-toggleable__content.fitted pre {\n",
              "  /* unfitted */\n",
              "  background-color: var(--sklearn-color-fitted-level-0);\n",
              "}\n",
              "\n",
              "#sk-container-id-8 input.sk-toggleable__control:checked~div.sk-toggleable__content {\n",
              "  /* Expand drop-down */\n",
              "  max-height: 200px;\n",
              "  max-width: 100%;\n",
              "  overflow: auto;\n",
              "}\n",
              "\n",
              "#sk-container-id-8 input.sk-toggleable__control:checked~label.sk-toggleable__label-arrow:before {\n",
              "  content: \"▾\";\n",
              "}\n",
              "\n",
              "/* Pipeline/ColumnTransformer-specific style */\n",
              "\n",
              "#sk-container-id-8 div.sk-label input.sk-toggleable__control:checked~label.sk-toggleable__label {\n",
              "  color: var(--sklearn-color-text);\n",
              "  background-color: var(--sklearn-color-unfitted-level-2);\n",
              "}\n",
              "\n",
              "#sk-container-id-8 div.sk-label.fitted input.sk-toggleable__control:checked~label.sk-toggleable__label {\n",
              "  background-color: var(--sklearn-color-fitted-level-2);\n",
              "}\n",
              "\n",
              "/* Estimator-specific style */\n",
              "\n",
              "/* Colorize estimator box */\n",
              "#sk-container-id-8 div.sk-estimator input.sk-toggleable__control:checked~label.sk-toggleable__label {\n",
              "  /* unfitted */\n",
              "  background-color: var(--sklearn-color-unfitted-level-2);\n",
              "}\n",
              "\n",
              "#sk-container-id-8 div.sk-estimator.fitted input.sk-toggleable__control:checked~label.sk-toggleable__label {\n",
              "  /* fitted */\n",
              "  background-color: var(--sklearn-color-fitted-level-2);\n",
              "}\n",
              "\n",
              "#sk-container-id-8 div.sk-label label.sk-toggleable__label,\n",
              "#sk-container-id-8 div.sk-label label {\n",
              "  /* The background is the default theme color */\n",
              "  color: var(--sklearn-color-text-on-default-background);\n",
              "}\n",
              "\n",
              "/* On hover, darken the color of the background */\n",
              "#sk-container-id-8 div.sk-label:hover label.sk-toggleable__label {\n",
              "  color: var(--sklearn-color-text);\n",
              "  background-color: var(--sklearn-color-unfitted-level-2);\n",
              "}\n",
              "\n",
              "/* Label box, darken color on hover, fitted */\n",
              "#sk-container-id-8 div.sk-label.fitted:hover label.sk-toggleable__label.fitted {\n",
              "  color: var(--sklearn-color-text);\n",
              "  background-color: var(--sklearn-color-fitted-level-2);\n",
              "}\n",
              "\n",
              "/* Estimator label */\n",
              "\n",
              "#sk-container-id-8 div.sk-label label {\n",
              "  font-family: monospace;\n",
              "  font-weight: bold;\n",
              "  display: inline-block;\n",
              "  line-height: 1.2em;\n",
              "}\n",
              "\n",
              "#sk-container-id-8 div.sk-label-container {\n",
              "  text-align: center;\n",
              "}\n",
              "\n",
              "/* Estimator-specific */\n",
              "#sk-container-id-8 div.sk-estimator {\n",
              "  font-family: monospace;\n",
              "  border: 1px dotted var(--sklearn-color-border-box);\n",
              "  border-radius: 0.25em;\n",
              "  box-sizing: border-box;\n",
              "  margin-bottom: 0.5em;\n",
              "  /* unfitted */\n",
              "  background-color: var(--sklearn-color-unfitted-level-0);\n",
              "}\n",
              "\n",
              "#sk-container-id-8 div.sk-estimator.fitted {\n",
              "  /* fitted */\n",
              "  background-color: var(--sklearn-color-fitted-level-0);\n",
              "}\n",
              "\n",
              "/* on hover */\n",
              "#sk-container-id-8 div.sk-estimator:hover {\n",
              "  /* unfitted */\n",
              "  background-color: var(--sklearn-color-unfitted-level-2);\n",
              "}\n",
              "\n",
              "#sk-container-id-8 div.sk-estimator.fitted:hover {\n",
              "  /* fitted */\n",
              "  background-color: var(--sklearn-color-fitted-level-2);\n",
              "}\n",
              "\n",
              "/* Specification for estimator info (e.g. \"i\" and \"?\") */\n",
              "\n",
              "/* Common style for \"i\" and \"?\" */\n",
              "\n",
              ".sk-estimator-doc-link,\n",
              "a:link.sk-estimator-doc-link,\n",
              "a:visited.sk-estimator-doc-link {\n",
              "  float: right;\n",
              "  font-size: smaller;\n",
              "  line-height: 1em;\n",
              "  font-family: monospace;\n",
              "  background-color: var(--sklearn-color-background);\n",
              "  border-radius: 1em;\n",
              "  height: 1em;\n",
              "  width: 1em;\n",
              "  text-decoration: none !important;\n",
              "  margin-left: 0.5em;\n",
              "  text-align: center;\n",
              "  /* unfitted */\n",
              "  border: var(--sklearn-color-unfitted-level-1) 1pt solid;\n",
              "  color: var(--sklearn-color-unfitted-level-1);\n",
              "}\n",
              "\n",
              ".sk-estimator-doc-link.fitted,\n",
              "a:link.sk-estimator-doc-link.fitted,\n",
              "a:visited.sk-estimator-doc-link.fitted {\n",
              "  /* fitted */\n",
              "  border: var(--sklearn-color-fitted-level-1) 1pt solid;\n",
              "  color: var(--sklearn-color-fitted-level-1);\n",
              "}\n",
              "\n",
              "/* On hover */\n",
              "div.sk-estimator:hover .sk-estimator-doc-link:hover,\n",
              ".sk-estimator-doc-link:hover,\n",
              "div.sk-label-container:hover .sk-estimator-doc-link:hover,\n",
              ".sk-estimator-doc-link:hover {\n",
              "  /* unfitted */\n",
              "  background-color: var(--sklearn-color-unfitted-level-3);\n",
              "  color: var(--sklearn-color-background);\n",
              "  text-decoration: none;\n",
              "}\n",
              "\n",
              "div.sk-estimator.fitted:hover .sk-estimator-doc-link.fitted:hover,\n",
              ".sk-estimator-doc-link.fitted:hover,\n",
              "div.sk-label-container:hover .sk-estimator-doc-link.fitted:hover,\n",
              ".sk-estimator-doc-link.fitted:hover {\n",
              "  /* fitted */\n",
              "  background-color: var(--sklearn-color-fitted-level-3);\n",
              "  color: var(--sklearn-color-background);\n",
              "  text-decoration: none;\n",
              "}\n",
              "\n",
              "/* Span, style for the box shown on hovering the info icon */\n",
              ".sk-estimator-doc-link span {\n",
              "  display: none;\n",
              "  z-index: 9999;\n",
              "  position: relative;\n",
              "  font-weight: normal;\n",
              "  right: .2ex;\n",
              "  padding: .5ex;\n",
              "  margin: .5ex;\n",
              "  width: min-content;\n",
              "  min-width: 20ex;\n",
              "  max-width: 50ex;\n",
              "  color: var(--sklearn-color-text);\n",
              "  box-shadow: 2pt 2pt 4pt #999;\n",
              "  /* unfitted */\n",
              "  background: var(--sklearn-color-unfitted-level-0);\n",
              "  border: .5pt solid var(--sklearn-color-unfitted-level-3);\n",
              "}\n",
              "\n",
              ".sk-estimator-doc-link.fitted span {\n",
              "  /* fitted */\n",
              "  background: var(--sklearn-color-fitted-level-0);\n",
              "  border: var(--sklearn-color-fitted-level-3);\n",
              "}\n",
              "\n",
              ".sk-estimator-doc-link:hover span {\n",
              "  display: block;\n",
              "}\n",
              "\n",
              "/* \"?\"-specific style due to the `<a>` HTML tag */\n",
              "\n",
              "#sk-container-id-8 a.estimator_doc_link {\n",
              "  float: right;\n",
              "  font-size: 1rem;\n",
              "  line-height: 1em;\n",
              "  font-family: monospace;\n",
              "  background-color: var(--sklearn-color-background);\n",
              "  border-radius: 1rem;\n",
              "  height: 1rem;\n",
              "  width: 1rem;\n",
              "  text-decoration: none;\n",
              "  /* unfitted */\n",
              "  color: var(--sklearn-color-unfitted-level-1);\n",
              "  border: var(--sklearn-color-unfitted-level-1) 1pt solid;\n",
              "}\n",
              "\n",
              "#sk-container-id-8 a.estimator_doc_link.fitted {\n",
              "  /* fitted */\n",
              "  border: var(--sklearn-color-fitted-level-1) 1pt solid;\n",
              "  color: var(--sklearn-color-fitted-level-1);\n",
              "}\n",
              "\n",
              "/* On hover */\n",
              "#sk-container-id-8 a.estimator_doc_link:hover {\n",
              "  /* unfitted */\n",
              "  background-color: var(--sklearn-color-unfitted-level-3);\n",
              "  color: var(--sklearn-color-background);\n",
              "  text-decoration: none;\n",
              "}\n",
              "\n",
              "#sk-container-id-8 a.estimator_doc_link.fitted:hover {\n",
              "  /* fitted */\n",
              "  background-color: var(--sklearn-color-fitted-level-3);\n",
              "}\n",
              "</style><div id=\"sk-container-id-8\" class=\"sk-top-container\"><div class=\"sk-text-repr-fallback\"><pre>GaussianNB()</pre><b>In a Jupyter environment, please rerun this cell to show the HTML representation or trust the notebook. <br />On GitHub, the HTML representation is unable to render, please try loading this page with nbviewer.org.</b></div><div class=\"sk-container\" hidden><div class=\"sk-item\"><div class=\"sk-estimator fitted sk-toggleable\"><input class=\"sk-toggleable__control sk-hidden--visually\" id=\"sk-estimator-id-8\" type=\"checkbox\" checked><label for=\"sk-estimator-id-8\" class=\"sk-toggleable__label fitted sk-toggleable__label-arrow\"><div><div>GaussianNB</div></div><div><a class=\"sk-estimator-doc-link fitted\" rel=\"noreferrer\" target=\"_blank\" href=\"https://scikit-learn.org/1.6/modules/generated/sklearn.naive_bayes.GaussianNB.html\">?<span>Documentation for GaussianNB</span></a><span class=\"sk-estimator-doc-link fitted\">i<span>Fitted</span></span></div></label><div class=\"sk-toggleable__content fitted\"><pre>GaussianNB()</pre></div> </div></div></div></div>"
            ],
            "text/plain": [
              "GaussianNB()"
            ]
          },
          "execution_count": 244,
          "metadata": {},
          "output_type": "execute_result"
        }
      ],
      "source": [
        "model.fit(X_train, y_train)"
      ]
    },
    {
      "cell_type": "markdown",
      "metadata": {
        "id": "zjHwPgukpx2Q"
      },
      "source": [
        "# Evaluation"
      ]
    },
    {
      "cell_type": "markdown",
      "metadata": {
        "id": "8oEVo81Cp2UY"
      },
      "source": [
        "**Prediksi data test**"
      ]
    },
    {
      "cell_type": "code",
      "execution_count": 245,
      "metadata": {
        "id": "AnKpjHsyqAiX"
      },
      "outputs": [],
      "source": [
        "y_pred = model.predict(X_test)"
      ]
    },
    {
      "cell_type": "markdown",
      "metadata": {
        "id": "_r-alhwTqX1F"
      },
      "source": [
        "**Tampilkan hasil evaluasi**"
      ]
    },
    {
      "cell_type": "code",
      "execution_count": 246,
      "metadata": {
        "colab": {
          "base_uri": "https://localhost:8080/"
        },
        "id": "qRKyMuxWqNv7",
        "outputId": "90711b29-ede9-486d-ee85-f4166ae89d94"
      },
      "outputs": [
        {
          "name": "stdout",
          "output_type": "stream",
          "text": [
            "Accuracy: 0.7532467532467533\n",
            "Confusion Matrix:\n",
            " [[79 20]\n",
            " [18 37]]\n",
            "Classification Report\n",
            "               precision    recall  f1-score   support\n",
            "\n",
            "           0       0.81      0.80      0.81        99\n",
            "           1       0.65      0.67      0.66        55\n",
            "\n",
            "    accuracy                           0.75       154\n",
            "   macro avg       0.73      0.74      0.73       154\n",
            "weighted avg       0.76      0.75      0.75       154\n",
            "\n"
          ]
        }
      ],
      "source": [
        "print(\"Accuracy:\", accuracy_score(y_test, y_pred))\n",
        "print(\"Confusion Matrix:\\n\", confusion_matrix(y_test, y_pred))\n",
        "print(\"Classification Report\\n\", classification_report(y_test, y_pred))\n"
      ]
    },
    {
      "cell_type": "markdown",
      "metadata": {
        "id": "bvW4wpqxrfki"
      },
      "source": [
        "**Deployment**"
      ]
    },
    {
      "cell_type": "code",
      "execution_count": 247,
      "metadata": {
        "colab": {
          "base_uri": "https://localhost:8080/"
        },
        "id": "QqInbhC1rgNc",
        "outputId": "84b4ef11-2e7b-4313-c61c-463f98672e2e"
      },
      "outputs": [
        {
          "name": "stdout",
          "output_type": "stream",
          "text": [
            "Model tersimpan sebagai 'naive_bayes_diabetes_model.pkl'\n"
          ]
        }
      ],
      "source": [
        "import joblib\n",
        "\n",
        "# Simpan model ke file\n",
        "joblib.dump(model, 'naive_bayes_diabetes_model.pkl')\n",
        "print(\"Model tersimpan sebagai 'naive_bayes_diabetes_model.pkl'\")"
      ]
    },
    {
      "cell_type": "code",
      "execution_count": 248,
      "metadata": {},
      "outputs": [
        {
          "name": "stdout",
          "output_type": "stream",
          "text": [
            "Defaulting to user installation because normal site-packages is not writeable\n",
            "Requirement already satisfied: pyngrok in c:\\users\\fakhr\\appdata\\roaming\\python\\python313\\site-packages (7.2.9)\n",
            "Requirement already satisfied: PyYAML>=5.1 in c:\\users\\fakhr\\appdata\\roaming\\python\\python313\\site-packages (from pyngrok) (6.0.2)\n",
            "Note: you may need to restart the kernel to use updated packages.\n"
          ]
        }
      ],
      "source": [
        "%pip install pyngrok"
      ]
    },
    {
      "cell_type": "code",
      "execution_count": null,
      "metadata": {},
      "outputs": [
        {
          "name": "stdout",
          "output_type": "stream",
          "text": [
            "Authtoken saved to configuration file: C:\\Users\\fakhr\\AppData\\Local/ngrok/ngrok.yml\n"
          ]
        }
      ],
      "source": [
        "!ngrok config add-authtoken 2x7AjWOyQHJ2mZmNXK6Dj84fjHI_BnPLhZuVowk7yiK3b5vh"
      ]
    },
    {
      "cell_type": "code",
      "execution_count": 250,
      "metadata": {},
      "outputs": [
        {
          "name": "stdout",
          "output_type": "stream",
          "text": [
            "Defaulting to user installation because normal site-packages is not writeable\n",
            "Requirement already satisfied: streamlit in c:\\users\\fakhr\\appdata\\roaming\\python\\python313\\site-packages (1.45.1)\n",
            "Requirement already satisfied: altair<6,>=4.0 in c:\\users\\fakhr\\appdata\\roaming\\python\\python313\\site-packages (from streamlit) (5.5.0)\n",
            "Requirement already satisfied: blinker<2,>=1.5.0 in c:\\users\\fakhr\\appdata\\roaming\\python\\python313\\site-packages (from streamlit) (1.9.0)\n",
            "Requirement already satisfied: cachetools<6,>=4.0 in c:\\users\\fakhr\\appdata\\roaming\\python\\python313\\site-packages (from streamlit) (5.5.2)\n",
            "Requirement already satisfied: click<9,>=7.0 in c:\\users\\fakhr\\appdata\\roaming\\python\\python313\\site-packages (from streamlit) (8.2.1)\n",
            "Requirement already satisfied: numpy<3,>=1.23 in c:\\users\\fakhr\\appdata\\roaming\\python\\python313\\site-packages (from streamlit) (2.2.6)\n",
            "Requirement already satisfied: packaging<25,>=20 in c:\\users\\fakhr\\appdata\\roaming\\python\\python313\\site-packages (from streamlit) (24.2)\n",
            "Requirement already satisfied: pandas<3,>=1.4.0 in c:\\users\\fakhr\\appdata\\roaming\\python\\python313\\site-packages (from streamlit) (2.2.3)\n",
            "Requirement already satisfied: pillow<12,>=7.1.0 in c:\\users\\fakhr\\appdata\\roaming\\python\\python313\\site-packages (from streamlit) (11.2.1)\n",
            "Requirement already satisfied: protobuf<7,>=3.20 in c:\\users\\fakhr\\appdata\\roaming\\python\\python313\\site-packages (from streamlit) (6.31.0)\n",
            "Requirement already satisfied: pyarrow>=7.0 in c:\\users\\fakhr\\appdata\\roaming\\python\\python313\\site-packages (from streamlit) (20.0.0)\n",
            "Requirement already satisfied: requests<3,>=2.27 in c:\\users\\fakhr\\appdata\\roaming\\python\\python313\\site-packages (from streamlit) (2.32.3)\n",
            "Requirement already satisfied: tenacity<10,>=8.1.0 in c:\\users\\fakhr\\appdata\\roaming\\python\\python313\\site-packages (from streamlit) (9.1.2)\n",
            "Requirement already satisfied: toml<2,>=0.10.1 in c:\\users\\fakhr\\appdata\\roaming\\python\\python313\\site-packages (from streamlit) (0.10.2)\n",
            "Requirement already satisfied: typing-extensions<5,>=4.4.0 in c:\\users\\fakhr\\appdata\\roaming\\python\\python313\\site-packages (from streamlit) (4.13.2)\n",
            "Requirement already satisfied: watchdog<7,>=2.1.5 in c:\\users\\fakhr\\appdata\\roaming\\python\\python313\\site-packages (from streamlit) (6.0.0)\n",
            "Requirement already satisfied: gitpython!=3.1.19,<4,>=3.0.7 in c:\\users\\fakhr\\appdata\\roaming\\python\\python313\\site-packages (from streamlit) (3.1.44)\n",
            "Requirement already satisfied: pydeck<1,>=0.8.0b4 in c:\\users\\fakhr\\appdata\\roaming\\python\\python313\\site-packages (from streamlit) (0.9.1)\n",
            "Requirement already satisfied: tornado<7,>=6.0.3 in c:\\users\\fakhr\\appdata\\roaming\\python\\python313\\site-packages (from streamlit) (6.5.1)\n",
            "Requirement already satisfied: jinja2 in c:\\users\\fakhr\\appdata\\roaming\\python\\python313\\site-packages (from altair<6,>=4.0->streamlit) (3.1.6)\n",
            "Requirement already satisfied: jsonschema>=3.0 in c:\\users\\fakhr\\appdata\\roaming\\python\\python313\\site-packages (from altair<6,>=4.0->streamlit) (4.24.0)\n",
            "Requirement already satisfied: narwhals>=1.14.2 in c:\\users\\fakhr\\appdata\\roaming\\python\\python313\\site-packages (from altair<6,>=4.0->streamlit) (1.41.0)\n",
            "Requirement already satisfied: colorama in c:\\users\\fakhr\\appdata\\roaming\\python\\python313\\site-packages (from click<9,>=7.0->streamlit) (0.4.6)\n",
            "Requirement already satisfied: gitdb<5,>=4.0.1 in c:\\users\\fakhr\\appdata\\roaming\\python\\python313\\site-packages (from gitpython!=3.1.19,<4,>=3.0.7->streamlit) (4.0.12)\n",
            "Requirement already satisfied: smmap<6,>=3.0.1 in c:\\users\\fakhr\\appdata\\roaming\\python\\python313\\site-packages (from gitdb<5,>=4.0.1->gitpython!=3.1.19,<4,>=3.0.7->streamlit) (5.0.2)\n",
            "Requirement already satisfied: python-dateutil>=2.8.2 in c:\\users\\fakhr\\appdata\\roaming\\python\\python313\\site-packages (from pandas<3,>=1.4.0->streamlit) (2.9.0.post0)\n",
            "Requirement already satisfied: pytz>=2020.1 in c:\\users\\fakhr\\appdata\\roaming\\python\\python313\\site-packages (from pandas<3,>=1.4.0->streamlit) (2025.2)\n",
            "Requirement already satisfied: tzdata>=2022.7 in c:\\users\\fakhr\\appdata\\roaming\\python\\python313\\site-packages (from pandas<3,>=1.4.0->streamlit) (2025.2)\n",
            "Requirement already satisfied: charset-normalizer<4,>=2 in c:\\users\\fakhr\\appdata\\roaming\\python\\python313\\site-packages (from requests<3,>=2.27->streamlit) (3.4.2)\n",
            "Requirement already satisfied: idna<4,>=2.5 in c:\\users\\fakhr\\appdata\\roaming\\python\\python313\\site-packages (from requests<3,>=2.27->streamlit) (3.10)\n",
            "Requirement already satisfied: urllib3<3,>=1.21.1 in c:\\users\\fakhr\\appdata\\roaming\\python\\python313\\site-packages (from requests<3,>=2.27->streamlit) (2.4.0)\n",
            "Requirement already satisfied: certifi>=2017.4.17 in c:\\users\\fakhr\\appdata\\roaming\\python\\python313\\site-packages (from requests<3,>=2.27->streamlit) (2025.4.26)\n",
            "Requirement already satisfied: MarkupSafe>=2.0 in c:\\users\\fakhr\\appdata\\roaming\\python\\python313\\site-packages (from jinja2->altair<6,>=4.0->streamlit) (3.0.2)\n",
            "Requirement already satisfied: attrs>=22.2.0 in c:\\users\\fakhr\\appdata\\roaming\\python\\python313\\site-packages (from jsonschema>=3.0->altair<6,>=4.0->streamlit) (25.3.0)\n",
            "Requirement already satisfied: jsonschema-specifications>=2023.03.6 in c:\\users\\fakhr\\appdata\\roaming\\python\\python313\\site-packages (from jsonschema>=3.0->altair<6,>=4.0->streamlit) (2025.4.1)\n",
            "Requirement already satisfied: referencing>=0.28.4 in c:\\users\\fakhr\\appdata\\roaming\\python\\python313\\site-packages (from jsonschema>=3.0->altair<6,>=4.0->streamlit) (0.36.2)\n",
            "Requirement already satisfied: rpds-py>=0.7.1 in c:\\users\\fakhr\\appdata\\roaming\\python\\python313\\site-packages (from jsonschema>=3.0->altair<6,>=4.0->streamlit) (0.25.1)\n",
            "Requirement already satisfied: six>=1.5 in c:\\users\\fakhr\\appdata\\roaming\\python\\python313\\site-packages (from python-dateutil>=2.8.2->pandas<3,>=1.4.0->streamlit) (1.17.0)\n",
            "Note: you may need to restart the kernel to use updated packages.\n"
          ]
        }
      ],
      "source": [
        "%pip install streamlit"
      ]
    },
    {
      "cell_type": "code",
      "execution_count": 251,
      "metadata": {},
      "outputs": [],
      "source": [
        "import streamlit as st"
      ]
    },
    {
      "cell_type": "code",
      "execution_count": 252,
      "metadata": {},
      "outputs": [],
      "source": [
        "X = df[['Pregnancies', 'Glucose', 'BloodPressure', 'BMI', 'DiabetesPedigreeFunction', 'Age']]\n",
        "y = df['Outcome']\n"
      ]
    },
    {
      "cell_type": "code",
      "execution_count": 253,
      "metadata": {},
      "outputs": [
        {
          "name": "stderr",
          "output_type": "stream",
          "text": [
            "2025-06-08 22:23:24.418 Thread 'MainThread': missing ScriptRunContext! This warning can be ignored when running in bare mode.\n",
            "2025-06-08 22:23:24.420 No runtime found, using MemoryCacheStorageManager\n",
            "2025-06-08 22:23:24.421 No runtime found, using MemoryCacheStorageManager\n",
            "2025-06-08 22:23:24.425 Thread 'MainThread': missing ScriptRunContext! This warning can be ignored when running in bare mode.\n",
            "2025-06-08 22:23:24.426 Thread 'MainThread': missing ScriptRunContext! This warning can be ignored when running in bare mode.\n",
            "2025-06-08 22:23:24.426 Thread 'MainThread': missing ScriptRunContext! This warning can be ignored when running in bare mode.\n",
            "2025-06-08 22:23:24.427 Thread 'MainThread': missing ScriptRunContext! This warning can be ignored when running in bare mode.\n"
          ]
        },
        {
          "name": "stderr",
          "output_type": "stream",
          "text": [
            "2025-06-08 22:23:24.429 Thread 'MainThread': missing ScriptRunContext! This warning can be ignored when running in bare mode.\n",
            "2025-06-08 22:23:24.430 Thread 'MainThread': missing ScriptRunContext! This warning can be ignored when running in bare mode.\n",
            "2025-06-08 22:23:24.430 Thread 'MainThread': missing ScriptRunContext! This warning can be ignored when running in bare mode.\n",
            "2025-06-08 22:23:24.432 Thread 'MainThread': missing ScriptRunContext! This warning can be ignored when running in bare mode.\n",
            "2025-06-08 22:23:24.433 Thread 'MainThread': missing ScriptRunContext! This warning can be ignored when running in bare mode.\n",
            "2025-06-08 22:23:24.433 Thread 'MainThread': missing ScriptRunContext! This warning can be ignored when running in bare mode.\n",
            "2025-06-08 22:23:24.434 Thread 'MainThread': missing ScriptRunContext! This warning can be ignored when running in bare mode.\n",
            "2025-06-08 22:23:24.435 Thread 'MainThread': missing ScriptRunContext! This warning can be ignored when running in bare mode.\n",
            "2025-06-08 22:23:24.436 Thread 'MainThread': missing ScriptRunContext! This warning can be ignored when running in bare mode.\n",
            "2025-06-08 22:23:24.436 Thread 'MainThread': missing ScriptRunContext! This warning can be ignored when running in bare mode.\n",
            "2025-06-08 22:23:24.437 Thread 'MainThread': missing ScriptRunContext! This warning can be ignored when running in bare mode.\n",
            "2025-06-08 22:23:24.438 Thread 'MainThread': missing ScriptRunContext! This warning can be ignored when running in bare mode.\n",
            "2025-06-08 22:23:24.439 Thread 'MainThread': missing ScriptRunContext! This warning can be ignored when running in bare mode.\n",
            "2025-06-08 22:23:24.440 Thread 'MainThread': missing ScriptRunContext! This warning can be ignored when running in bare mode.\n",
            "2025-06-08 22:23:24.441 Thread 'MainThread': missing ScriptRunContext! This warning can be ignored when running in bare mode.\n",
            "2025-06-08 22:23:24.442 Thread 'MainThread': missing ScriptRunContext! This warning can be ignored when running in bare mode.\n",
            "2025-06-08 22:23:24.442 Thread 'MainThread': missing ScriptRunContext! This warning can be ignored when running in bare mode.\n",
            "2025-06-08 22:23:24.443 Thread 'MainThread': missing ScriptRunContext! This warning can be ignored when running in bare mode.\n",
            "2025-06-08 22:23:24.444 Thread 'MainThread': missing ScriptRunContext! This warning can be ignored when running in bare mode.\n",
            "2025-06-08 22:23:24.445 Thread 'MainThread': missing ScriptRunContext! This warning can be ignored when running in bare mode.\n",
            "2025-06-08 22:23:24.446 Thread 'MainThread': missing ScriptRunContext! This warning can be ignored when running in bare mode.\n",
            "2025-06-08 22:23:24.447 Thread 'MainThread': missing ScriptRunContext! This warning can be ignored when running in bare mode.\n",
            "2025-06-08 22:23:24.450 Thread 'MainThread': missing ScriptRunContext! This warning can be ignored when running in bare mode.\n",
            "2025-06-08 22:23:24.453 Thread 'MainThread': missing ScriptRunContext! This warning can be ignored when running in bare mode.\n",
            "2025-06-08 22:23:24.454 Thread 'MainThread': missing ScriptRunContext! This warning can be ignored when running in bare mode.\n",
            "2025-06-08 22:23:24.456 Thread 'MainThread': missing ScriptRunContext! This warning can be ignored when running in bare mode.\n",
            "2025-06-08 22:23:24.457 Thread 'MainThread': missing ScriptRunContext! This warning can be ignored when running in bare mode.\n",
            "2025-06-08 22:23:24.460 Thread 'MainThread': missing ScriptRunContext! This warning can be ignored when running in bare mode.\n",
            "2025-06-08 22:23:24.461 Thread 'MainThread': missing ScriptRunContext! This warning can be ignored when running in bare mode.\n",
            "2025-06-08 22:23:24.462 Thread 'MainThread': missing ScriptRunContext! This warning can be ignored when running in bare mode.\n",
            "2025-06-08 22:23:24.463 Thread 'MainThread': missing ScriptRunContext! This warning can be ignored when running in bare mode.\n",
            "2025-06-08 22:23:24.464 Thread 'MainThread': missing ScriptRunContext! This warning can be ignored when running in bare mode.\n",
            "2025-06-08 22:23:24.466 Thread 'MainThread': missing ScriptRunContext! This warning can be ignored when running in bare mode.\n",
            "2025-06-08 22:23:24.466 Thread 'MainThread': missing ScriptRunContext! This warning can be ignored when running in bare mode.\n",
            "2025-06-08 22:23:24.467 Thread 'MainThread': missing ScriptRunContext! This warning can be ignored when running in bare mode.\n",
            "2025-06-08 22:23:24.468 Thread 'MainThread': missing ScriptRunContext! This warning can be ignored when running in bare mode.\n",
            "2025-06-08 22:23:24.469 Thread 'MainThread': missing ScriptRunContext! This warning can be ignored when running in bare mode.\n",
            "2025-06-08 22:23:24.471 Thread 'MainThread': missing ScriptRunContext! This warning can be ignored when running in bare mode.\n",
            "2025-06-08 22:23:24.473 Thread 'MainThread': missing ScriptRunContext! This warning can be ignored when running in bare mode.\n",
            "2025-06-08 22:23:24.474 Thread 'MainThread': missing ScriptRunContext! This warning can be ignored when running in bare mode.\n",
            "2025-06-08 22:23:24.475 Thread 'MainThread': missing ScriptRunContext! This warning can be ignored when running in bare mode.\n",
            "2025-06-08 22:23:24.476 Thread 'MainThread': missing ScriptRunContext! This warning can be ignored when running in bare mode.\n",
            "2025-06-08 22:23:24.477 Thread 'MainThread': missing ScriptRunContext! This warning can be ignored when running in bare mode.\n",
            "2025-06-08 22:23:24.478 Thread 'MainThread': missing ScriptRunContext! This warning can be ignored when running in bare mode.\n",
            "2025-06-08 22:23:24.479 Thread 'MainThread': missing ScriptRunContext! This warning can be ignored when running in bare mode.\n",
            "2025-06-08 22:23:24.480 Thread 'MainThread': missing ScriptRunContext! This warning can be ignored when running in bare mode.\n",
            "2025-06-08 22:23:24.480 Thread 'MainThread': missing ScriptRunContext! This warning can be ignored when running in bare mode.\n",
            "2025-06-08 22:23:24.481 Thread 'MainThread': missing ScriptRunContext! This warning can be ignored when running in bare mode.\n",
            "2025-06-08 22:23:24.482 Thread 'MainThread': missing ScriptRunContext! This warning can be ignored when running in bare mode.\n",
            "2025-06-08 22:23:24.483 Thread 'MainThread': missing ScriptRunContext! This warning can be ignored when running in bare mode.\n",
            "2025-06-08 22:23:24.484 Thread 'MainThread': missing ScriptRunContext! This warning can be ignored when running in bare mode.\n",
            "2025-06-08 22:23:24.485 Thread 'MainThread': missing ScriptRunContext! This warning can be ignored when running in bare mode.\n",
            "2025-06-08 22:23:24.487 Thread 'MainThread': missing ScriptRunContext! This warning can be ignored when running in bare mode.\n",
            "2025-06-08 22:23:24.488 Thread 'MainThread': missing ScriptRunContext! This warning can be ignored when running in bare mode.\n",
            "2025-06-08 22:23:24.489 Thread 'MainThread': missing ScriptRunContext! This warning can be ignored when running in bare mode.\n",
            "2025-06-08 22:23:24.490 Thread 'MainThread': missing ScriptRunContext! This warning can be ignored when running in bare mode.\n",
            "2025-06-08 22:23:24.495 Thread 'MainThread': missing ScriptRunContext! This warning can be ignored when running in bare mode.\n",
            "2025-06-08 22:23:24.496 Thread 'MainThread': missing ScriptRunContext! This warning can be ignored when running in bare mode.\n",
            "2025-06-08 22:23:24.499 Thread 'MainThread': missing ScriptRunContext! This warning can be ignored when running in bare mode.\n",
            "2025-06-08 22:23:24.499 Thread 'MainThread': missing ScriptRunContext! This warning can be ignored when running in bare mode.\n",
            "2025-06-08 22:23:24.500 Thread 'MainThread': missing ScriptRunContext! This warning can be ignored when running in bare mode.\n",
            "2025-06-08 22:23:24.500 Thread 'MainThread': missing ScriptRunContext! This warning can be ignored when running in bare mode.\n",
            "2025-06-08 22:23:24.593 Thread 'MainThread': missing ScriptRunContext! This warning can be ignored when running in bare mode.\n",
            "2025-06-08 22:23:24.870 Thread 'MainThread': missing ScriptRunContext! This warning can be ignored when running in bare mode.\n",
            "2025-06-08 22:23:24.872 Thread 'MainThread': missing ScriptRunContext! This warning can be ignored when running in bare mode.\n",
            "2025-06-08 22:23:24.873 Thread 'MainThread': missing ScriptRunContext! This warning can be ignored when running in bare mode.\n",
            "2025-06-08 22:23:24.873 Thread 'MainThread': missing ScriptRunContext! This warning can be ignored when running in bare mode.\n",
            "2025-06-08 22:23:25.261 Thread 'MainThread': missing ScriptRunContext! This warning can be ignored when running in bare mode.\n",
            "2025-06-08 22:23:25.639 Thread 'MainThread': missing ScriptRunContext! This warning can be ignored when running in bare mode.\n",
            "2025-06-08 22:23:25.640 Thread 'MainThread': missing ScriptRunContext! This warning can be ignored when running in bare mode.\n",
            "2025-06-08 22:23:25.641 Thread 'MainThread': missing ScriptRunContext! This warning can be ignored when running in bare mode.\n",
            "2025-06-08 22:23:25.642 Thread 'MainThread': missing ScriptRunContext! This warning can be ignored when running in bare mode.\n",
            "2025-06-08 22:23:25.643 Thread 'MainThread': missing ScriptRunContext! This warning can be ignored when running in bare mode.\n",
            "2025-06-08 22:23:25.643 Thread 'MainThread': missing ScriptRunContext! This warning can be ignored when running in bare mode.\n",
            "2025-06-08 22:23:25.644 Thread 'MainThread': missing ScriptRunContext! This warning can be ignored when running in bare mode.\n",
            "2025-06-08 22:23:25.645 Thread 'MainThread': missing ScriptRunContext! This warning can be ignored when running in bare mode.\n",
            "2025-06-08 22:23:25.645 Thread 'MainThread': missing ScriptRunContext! This warning can be ignored when running in bare mode.\n",
            "2025-06-08 22:23:25.646 Thread 'MainThread': missing ScriptRunContext! This warning can be ignored when running in bare mode.\n",
            "2025-06-08 22:23:25.647 Thread 'MainThread': missing ScriptRunContext! This warning can be ignored when running in bare mode.\n",
            "2025-06-08 22:23:25.648 Thread 'MainThread': missing ScriptRunContext! This warning can be ignored when running in bare mode.\n",
            "2025-06-08 22:23:25.648 Thread 'MainThread': missing ScriptRunContext! This warning can be ignored when running in bare mode.\n",
            "2025-06-08 22:23:25.652 Thread 'MainThread': missing ScriptRunContext! This warning can be ignored when running in bare mode.\n",
            "2025-06-08 22:23:25.653 Thread 'MainThread': missing ScriptRunContext! This warning can be ignored when running in bare mode.\n",
            "2025-06-08 22:23:25.654 Thread 'MainThread': missing ScriptRunContext! This warning can be ignored when running in bare mode.\n",
            "2025-06-08 22:23:25.655 Thread 'MainThread': missing ScriptRunContext! This warning can be ignored when running in bare mode.\n",
            "2025-06-08 22:23:25.656 Thread 'MainThread': missing ScriptRunContext! This warning can be ignored when running in bare mode.\n",
            "2025-06-08 22:23:25.657 Thread 'MainThread': missing ScriptRunContext! This warning can be ignored when running in bare mode.\n",
            "2025-06-08 22:23:25.660 Thread 'MainThread': missing ScriptRunContext! This warning can be ignored when running in bare mode.\n",
            "2025-06-08 22:23:25.660 Thread 'MainThread': missing ScriptRunContext! This warning can be ignored when running in bare mode.\n",
            "2025-06-08 22:23:25.661 Thread 'MainThread': missing ScriptRunContext! This warning can be ignored when running in bare mode.\n",
            "2025-06-08 22:23:25.662 Thread 'MainThread': missing ScriptRunContext! This warning can be ignored when running in bare mode.\n",
            "2025-06-08 22:23:25.664 Thread 'MainThread': missing ScriptRunContext! This warning can be ignored when running in bare mode.\n",
            "2025-06-08 22:23:25.665 Thread 'MainThread': missing ScriptRunContext! This warning can be ignored when running in bare mode.\n",
            "2025-06-08 22:23:25.665 Thread 'MainThread': missing ScriptRunContext! This warning can be ignored when running in bare mode.\n",
            "2025-06-08 22:23:25.666 Thread 'MainThread': missing ScriptRunContext! This warning can be ignored when running in bare mode.\n",
            "2025-06-08 22:23:25.667 Thread 'MainThread': missing ScriptRunContext! This warning can be ignored when running in bare mode.\n",
            "2025-06-08 22:23:25.667 Thread 'MainThread': missing ScriptRunContext! This warning can be ignored when running in bare mode.\n",
            "2025-06-08 22:23:25.668 Thread 'MainThread': missing ScriptRunContext! This warning can be ignored when running in bare mode.\n",
            "2025-06-08 22:23:25.669 Thread 'MainThread': missing ScriptRunContext! This warning can be ignored when running in bare mode.\n",
            "2025-06-08 22:23:25.670 Thread 'MainThread': missing ScriptRunContext! This warning can be ignored when running in bare mode.\n",
            "2025-06-08 22:23:25.671 Thread 'MainThread': missing ScriptRunContext! This warning can be ignored when running in bare mode.\n",
            "2025-06-08 22:23:25.672 Thread 'MainThread': missing ScriptRunContext! This warning can be ignored when running in bare mode.\n",
            "2025-06-08 22:23:25.673 Thread 'MainThread': missing ScriptRunContext! This warning can be ignored when running in bare mode.\n",
            "2025-06-08 22:23:25.673 Thread 'MainThread': missing ScriptRunContext! This warning can be ignored when running in bare mode.\n",
            "2025-06-08 22:23:25.674 Thread 'MainThread': missing ScriptRunContext! This warning can be ignored when running in bare mode.\n",
            "2025-06-08 22:23:25.675 Thread 'MainThread': missing ScriptRunContext! This warning can be ignored when running in bare mode.\n",
            "2025-06-08 22:23:25.675 Thread 'MainThread': missing ScriptRunContext! This warning can be ignored when running in bare mode.\n",
            "2025-06-08 22:23:25.676 Thread 'MainThread': missing ScriptRunContext! This warning can be ignored when running in bare mode.\n",
            "2025-06-08 22:23:25.733 Thread 'MainThread': missing ScriptRunContext! This warning can be ignored when running in bare mode.\n",
            "2025-06-08 22:23:26.020 Thread 'MainThread': missing ScriptRunContext! This warning can be ignored when running in bare mode.\n",
            "2025-06-08 22:23:26.022 Thread 'MainThread': missing ScriptRunContext! This warning can be ignored when running in bare mode.\n",
            "2025-06-08 22:23:26.023 Thread 'MainThread': missing ScriptRunContext! This warning can be ignored when running in bare mode.\n",
            "2025-06-08 22:23:26.024 Thread 'MainThread': missing ScriptRunContext! This warning can be ignored when running in bare mode.\n",
            "2025-06-08 22:23:26.024 Thread 'MainThread': missing ScriptRunContext! This warning can be ignored when running in bare mode.\n",
            "2025-06-08 22:23:26.025 Thread 'MainThread': missing ScriptRunContext! This warning can be ignored when running in bare mode.\n",
            "2025-06-08 22:23:26.029 Serialization of dataframe to Arrow table was unsuccessful. Applying automatic fixes for column types to make the dataframe Arrow-compatible.\n",
            "Traceback (most recent call last):\n",
            "  File \"C:\\Users\\fakhr\\AppData\\Roaming\\Python\\Python313\\site-packages\\streamlit\\dataframe_util.py\", line 822, in convert_pandas_df_to_arrow_bytes\n",
            "    table = pa.Table.from_pandas(df)\n",
            "  File \"pyarrow\\\\table.pxi\", line 4793, in pyarrow.lib.Table.from_pandas\n",
            "  File \"C:\\Users\\fakhr\\AppData\\Roaming\\Python\\Python313\\site-packages\\pyarrow\\pandas_compat.py\", line 639, in dataframe_to_arrays\n",
            "    arrays = [convert_column(c, f)\n",
            "              ~~~~~~~~~~~~~~^^^^^^\n",
            "  File \"C:\\Users\\fakhr\\AppData\\Roaming\\Python\\Python313\\site-packages\\pyarrow\\pandas_compat.py\", line 626, in convert_column\n",
            "    raise e\n",
            "  File \"C:\\Users\\fakhr\\AppData\\Roaming\\Python\\Python313\\site-packages\\pyarrow\\pandas_compat.py\", line 620, in convert_column\n",
            "    result = pa.array(col, type=type_, from_pandas=True, safe=safe)\n",
            "  File \"pyarrow\\\\array.pxi\", line 365, in pyarrow.lib.array\n",
            "  File \"pyarrow\\\\array.pxi\", line 90, in pyarrow.lib._ndarray_to_array\n",
            "  File \"pyarrow\\\\error.pxi\", line 92, in pyarrow.lib.check_status\n",
            "pyarrow.lib.ArrowInvalid: (\"Could not convert '-' with type str: tried to convert to int64\", 'Conversion failed for column Missing Sesudah with type object')\n",
            "2025-06-08 22:23:26.033 Thread 'MainThread': missing ScriptRunContext! This warning can be ignored when running in bare mode.\n",
            "2025-06-08 22:23:26.034 Thread 'MainThread': missing ScriptRunContext! This warning can be ignored when running in bare mode.\n",
            "2025-06-08 22:23:26.035 Thread 'MainThread': missing ScriptRunContext! This warning can be ignored when running in bare mode.\n",
            "2025-06-08 22:23:26.036 Thread 'MainThread': missing ScriptRunContext! This warning can be ignored when running in bare mode.\n",
            "2025-06-08 22:23:26.036 Thread 'MainThread': missing ScriptRunContext! This warning can be ignored when running in bare mode.\n",
            "2025-06-08 22:23:26.037 Thread 'MainThread': missing ScriptRunContext! This warning can be ignored when running in bare mode.\n",
            "2025-06-08 22:23:26.038 Thread 'MainThread': missing ScriptRunContext! This warning can be ignored when running in bare mode.\n",
            "2025-06-08 22:23:26.039 Thread 'MainThread': missing ScriptRunContext! This warning can be ignored when running in bare mode.\n",
            "2025-06-08 22:23:26.040 Thread 'MainThread': missing ScriptRunContext! This warning can be ignored when running in bare mode.\n",
            "2025-06-08 22:23:26.040 Thread 'MainThread': missing ScriptRunContext! This warning can be ignored when running in bare mode.\n",
            "2025-06-08 22:23:26.057 Thread 'MainThread': missing ScriptRunContext! This warning can be ignored when running in bare mode.\n",
            "2025-06-08 22:23:26.058 Thread 'MainThread': missing ScriptRunContext! This warning can be ignored when running in bare mode.\n",
            "2025-06-08 22:23:26.059 Thread 'MainThread': missing ScriptRunContext! This warning can be ignored when running in bare mode.\n",
            "2025-06-08 22:23:26.060 Thread 'MainThread': missing ScriptRunContext! This warning can be ignored when running in bare mode.\n",
            "2025-06-08 22:23:26.061 Thread 'MainThread': missing ScriptRunContext! This warning can be ignored when running in bare mode.\n",
            "2025-06-08 22:23:26.062 Thread 'MainThread': missing ScriptRunContext! This warning can be ignored when running in bare mode.\n",
            "2025-06-08 22:23:26.063 Thread 'MainThread': missing ScriptRunContext! This warning can be ignored when running in bare mode.\n",
            "2025-06-08 22:23:26.064 Thread 'MainThread': missing ScriptRunContext! This warning can be ignored when running in bare mode.\n",
            "2025-06-08 22:23:26.065 Thread 'MainThread': missing ScriptRunContext! This warning can be ignored when running in bare mode.\n",
            "2025-06-08 22:23:26.065 Thread 'MainThread': missing ScriptRunContext! This warning can be ignored when running in bare mode.\n",
            "2025-06-08 22:23:26.066 Thread 'MainThread': missing ScriptRunContext! This warning can be ignored when running in bare mode.\n",
            "2025-06-08 22:23:26.077 Thread 'MainThread': missing ScriptRunContext! This warning can be ignored when running in bare mode.\n",
            "2025-06-08 22:23:26.078 Thread 'MainThread': missing ScriptRunContext! This warning can be ignored when running in bare mode.\n",
            "2025-06-08 22:23:26.078 Thread 'MainThread': missing ScriptRunContext! This warning can be ignored when running in bare mode.\n",
            "2025-06-08 22:23:26.079 Thread 'MainThread': missing ScriptRunContext! This warning can be ignored when running in bare mode.\n",
            "2025-06-08 22:23:26.089 Thread 'MainThread': missing ScriptRunContext! This warning can be ignored when running in bare mode.\n",
            "2025-06-08 22:23:26.090 Thread 'MainThread': missing ScriptRunContext! This warning can be ignored when running in bare mode.\n",
            "2025-06-08 22:23:26.090 Thread 'MainThread': missing ScriptRunContext! This warning can be ignored when running in bare mode.\n",
            "2025-06-08 22:23:26.091 Thread 'MainThread': missing ScriptRunContext! This warning can be ignored when running in bare mode.\n",
            "2025-06-08 22:23:26.096 Thread 'MainThread': missing ScriptRunContext! This warning can be ignored when running in bare mode.\n",
            "2025-06-08 22:23:26.097 Thread 'MainThread': missing ScriptRunContext! This warning can be ignored when running in bare mode.\n",
            "2025-06-08 22:23:26.098 Thread 'MainThread': missing ScriptRunContext! This warning can be ignored when running in bare mode.\n",
            "2025-06-08 22:23:26.099 Thread 'MainThread': missing ScriptRunContext! This warning can be ignored when running in bare mode.\n",
            "2025-06-08 22:23:26.099 Thread 'MainThread': missing ScriptRunContext! This warning can be ignored when running in bare mode.\n",
            "2025-06-08 22:23:26.100 Thread 'MainThread': missing ScriptRunContext! This warning can be ignored when running in bare mode.\n",
            "2025-06-08 22:23:26.101 Thread 'MainThread': missing ScriptRunContext! This warning can be ignored when running in bare mode.\n",
            "2025-06-08 22:23:26.102 Thread 'MainThread': missing ScriptRunContext! This warning can be ignored when running in bare mode.\n",
            "2025-06-08 22:23:26.102 Thread 'MainThread': missing ScriptRunContext! This warning can be ignored when running in bare mode.\n",
            "2025-06-08 22:23:26.103 Thread 'MainThread': missing ScriptRunContext! This warning can be ignored when running in bare mode.\n",
            "2025-06-08 22:23:26.104 Thread 'MainThread': missing ScriptRunContext! This warning can be ignored when running in bare mode.\n",
            "2025-06-08 22:23:26.110 Thread 'MainThread': missing ScriptRunContext! This warning can be ignored when running in bare mode.\n",
            "2025-06-08 22:23:26.111 Thread 'MainThread': missing ScriptRunContext! This warning can be ignored when running in bare mode.\n",
            "2025-06-08 22:23:26.113 Thread 'MainThread': missing ScriptRunContext! This warning can be ignored when running in bare mode.\n",
            "2025-06-08 22:23:26.114 Thread 'MainThread': missing ScriptRunContext! This warning can be ignored when running in bare mode.\n"
          ]
        },
        {
          "data": {
            "image/png": "[encoded data removed]",
            "text/plain": [
              "<Figure size 1200x600 with 3 Axes>"
            ]
          },
          "metadata": {},
          "output_type": "display_data"
        },
        {
          "data": {
            "image/png": "[encoded data removed]",
            "text/plain": [
              "<Figure size 1200x800 with 1 Axes>"
            ]
          },
          "metadata": {},
          "output_type": "display_data"
        },
        {
          "data": {
            "image/png": "[encoded data removed]",
            "text/plain": [
              "<Figure size 1200x800 with 1 Axes>"
            ]
          },
          "metadata": {},
          "output_type": "display_data"
        }
      ],
      "source": [
        "import streamlit as st\n",
        "import pandas as pd\n",
        "import numpy as np\n",
        "import plotly.graph_objects as go\n",
        "import plotly.express as px\n",
        "from plotly.subplots import make_subplots\n",
        "import joblib\n",
        "import matplotlib.pyplot as plt\n",
        "import seaborn as sns\n",
        "import missingno as msno\n",
        "from sklearn.metrics import roc_curve, auc\n",
        "\n",
        "st.set_page_config(page_title=\"Prediksi Diabetes\", page_icon=\"🩺\", layout=\"wide\")\n",
        "\n",
        "@st.cache_data\n",
        "def load_raw_data():\n",
        "    \"\"\"Load data mentah untuk visualisasi missing values\"\"\"\n",
        "    df = pd.read_csv(\"Data Set Diabetes.csv\", delimiter=\";\")\n",
        "    df.columns = df.columns.str.strip()\n",
        "    # Ganti 0 dengan NaN untuk kolom tertentu\n",
        "    for col in ['Glucose', 'BloodPressure', 'SkinThickness', 'Insulin', 'BMI']:\n",
        "        df[col] = df[col].replace(0, np.nan)\n",
        "    return df\n",
        "\n",
        "@st.cache_data\n",
        "def load_processed_data():\n",
        "    \"\"\"Load data yang sudah diproses untuk model\"\"\"\n",
        "    df = pd.read_csv(\"Data Set Diabetes.csv\", delimiter=\";\")\n",
        "    df.columns = df.columns.str.strip()\n",
        "    # Ganti 0 dengan NaN untuk kolom tertentu\n",
        "    for col in ['Glucose', 'BloodPressure', 'SkinThickness', 'Insulin', 'BMI']:\n",
        "        df[col] = df[col].replace(0, np.nan)\n",
        "    # Hapus kolom Insulin dan SkinThickness\n",
        "    df = df.drop(['Insulin', 'SkinThickness'], axis=1)\n",
        "    # Isi NaN dengan median kolom yang tersisa\n",
        "    df.fillna(df.median(numeric_only=True), inplace=True)\n",
        "    return df\n",
        "\n",
        "@st.cache_resource\n",
        "def load_model():\n",
        "    return joblib.load(\"naive_bayes_diabetes_model.pkl\")\n",
        "\n",
        "def plot_roc_curve(model, df):\n",
        "    X = df[[\"Pregnancies\", \"Glucose\", \"BloodPressure\", \n",
        "            \"BMI\", \"DiabetesPedigreeFunction\", \"Age\"]]\n",
        "    y = df[\"Outcome\"]\n",
        "\n",
        "    y_prob = model.predict_proba(X)[:, 1]\n",
        "    fpr, tpr, _ = roc_curve(y, y_prob)\n",
        "    roc_auc = auc(fpr, tpr)\n",
        "\n",
        "    fig, ax = plt.subplots()\n",
        "    ax.plot(fpr, tpr, color='darkorange', lw=2, label='ROC curve (area = %0.2f)' % roc_auc)\n",
        "    ax.plot([0, 1], [0, 1], color='navy', lw=2, linestyle='--')\n",
        "    ax.set_xlim([0.0, 1.0])\n",
        "    ax.set_ylim([0.0, 1.05])\n",
        "    ax.set_xlabel('False Positive Rate')\n",
        "    ax.set_ylabel('True Positive Rate')\n",
        "    ax.set_title('Receiver Operating Characteristic')\n",
        "    ax.legend(loc=\"lower right\")\n",
        "    return fig\n",
        "\n",
        "def show_missing_values(df_raw):\n",
        "    \"\"\"Menampilkan missing values dari data mentah\"\"\"\n",
        "    st.subheader(\"📊 Informasi Missing Values\")\n",
        "    \n",
        "    # Hitung persentase missing values\n",
        "    missing_counts = df_raw.isnull().sum()\n",
        "    missing_percentages = (missing_counts / len(df_raw)) * 100\n",
        "    \n",
        "    # Tampilkan tabel missing values\n",
        "    missing_info = pd.DataFrame({\n",
        "        'Kolom': missing_counts.index,\n",
        "        'Jumlah Missing': missing_counts.values,\n",
        "        'Persentase Missing': missing_percentages.values\n",
        "    })\n",
        "    missing_info = missing_info[missing_info['Jumlah Missing'] > 0]\n",
        "    \n",
        "    if not missing_info.empty:\n",
        "        st.write(\"**Tabel Missing Values:**\")\n",
        "        st.dataframe(missing_info)\n",
        "    else:\n",
        "        st.info(\"Tidak ada missing values dalam dataset.\")\n",
        "    \n",
        "    # Visualisasi missing values\n",
        "    st.subheader(\"📉 Visualisasi Missing Values\")\n",
        "    \n",
        "    if missing_counts.sum() > 0:\n",
        "        fig, ax = plt.subplots(figsize=(12, 6))\n",
        "        msno.bar(df_raw, ax=ax, color='skyblue')\n",
        "        ax.set_title('Missing Values per Column', fontsize=14, fontweight='bold')\n",
        "        ax.set_xlabel('Kolom', fontsize=12)\n",
        "        ax.set_ylabel('Jumlah Data Non-Missing', fontsize=12)\n",
        "        plt.xticks(rotation=45)\n",
        "        plt.tight_layout()\n",
        "        st.pyplot(fig)\n",
        "        \n",
        "        # Matrix plot untuk melihat pola missing values\n",
        "        st.subheader(\"🔍 Pola Missing Values\")\n",
        "        fig2, ax2 = plt.subplots(figsize=(12, 8))\n",
        "        msno.matrix(df_raw, ax=ax2)\n",
        "        ax2.set_title('Matrix Missing Values', fontsize=14, fontweight='bold')\n",
        "        plt.tight_layout()\n",
        "        st.pyplot(fig2)\n",
        "    else:\n",
        "        st.info(\"Tidak ada missing values untuk divisualisasikan.\")\n",
        "\n",
        "def show_cleaned_data_analysis(df_raw, df_processed):\n",
        "    \"\"\"Menampilkan analisis data yang sudah dibersihkan\"\"\"\n",
        "    st.subheader(\"✨ Analisis Data Setelah Pembersihan\")\n",
        "    \n",
        "    # Hitung statistik perbandingan\n",
        "    missing_before = df_raw.isnull().sum().sum()\n",
        "    missing_after = df_processed.isnull().sum().sum()\n",
        "    \n",
        "    # Metrics perbandingan\n",
        "    col1, col2, col3, col4 = st.columns(4)\n",
        "    with col1:\n",
        "        st.metric(\"Missing Values Sebelum\", missing_before)\n",
        "    with col2:\n",
        "        st.metric(\"Missing Values Sesudah\", missing_after, delta=f\"-{missing_before}\")\n",
        "    with col3:\n",
        "        st.metric(\"Persentase Berkurang\", f\"{((missing_before - missing_after) / missing_before * 100):.1f}%\")\n",
        "    with col4:\n",
        "        st.metric(\"Data Integrity\", \"100%\" if missing_after == 0 else f\"{((len(df_processed) - missing_after) / len(df_processed) * 100):.1f}%\")\n",
        "    \n",
        "    # Tambahkan informasi tentang kolom yang dihapus\n",
        "    st.info(\"ℹ️ **Catatan:** Kolom Insulin dan SkinThickness telah dihapus dari data yang diproses karena memiliki terlalu banyak missing values, namun masih ditampilkan dalam analisis missing values di atas untuk referensi.\")\n",
        "    \n",
        "    # Diagram Data Setelah Dibersihkan - hanya kolom yang tersisa\n",
        "    st.subheader(\"📊 Visualisasi Data Setelah Dibersihkan (Kolom yang Digunakan)\")\n",
        "    \n",
        "    # Hitung jumlah data non-missing untuk setiap kolom yang tersisa\n",
        "    non_missing_counts = len(df_processed) - df_processed.isnull().sum()\n",
        "    \n",
        "    # Buat bar chart menggunakan matplotlib dengan style yang sama\n",
        "    fig, ax = plt.subplots(figsize=(12, 8))\n",
        "    \n",
        "    # Buat bar chart\n",
        "    bars = ax.bar(range(len(non_missing_counts)), non_missing_counts, color='lightgreen', alpha=0.8, edgecolor='darkgreen', linewidth=1.5)\n",
        "    \n",
        "    # Tambahkan nilai di atas setiap bar\n",
        "    for i, (bar, count) in enumerate(zip(bars, non_missing_counts)):\n",
        "        ax.text(bar.get_x() + bar.get_width()/2, bar.get_height() + 5, \n",
        "                str(count), ha='center', va='bottom', fontsize=12, fontweight='bold')\n",
        "    \n",
        "    # Kustomisasi tampilan\n",
        "    ax.set_title('Data Setelah Pembersihan - Kolom yang Digunakan untuk Model', fontsize=16, fontweight='bold', pad=20)\n",
        "    ax.set_xlabel('Kolom', fontsize=12, fontweight='bold')\n",
        "    ax.set_ylabel('Jumlah Data Lengkap', fontsize=12, fontweight='bold')\n",
        "    ax.set_xticks(range(len(non_missing_counts)))\n",
        "    ax.set_xticklabels(non_missing_counts.index, rotation=45, ha='right')\n",
        "    \n",
        "    # Set y-axis untuk menampilkan skala yang tepat\n",
        "    ax.set_ylim(0, len(df_processed) + 50)\n",
        "    \n",
        "    # Tambahkan grid untuk memudahkan pembacaan\n",
        "    ax.grid(axis='y', alpha=0.3, linestyle='--')\n",
        "    \n",
        "    # Tambahkan background color\n",
        "    ax.set_facecolor('#f8f9fa')\n",
        "    \n",
        "    # Tambahkan border\n",
        "    for spine in ax.spines.values():\n",
        "        spine.set_edgecolor('gray')\n",
        "        spine.set_linewidth(1)\n",
        "    \n",
        "    plt.tight_layout()\n",
        "    st.pyplot(fig)\n",
        "    \n",
        "    # Tampilkan informasi tambahan\n",
        "    st.success(f\"✅ **Data yang digunakan telah dibersihkan!** Model menggunakan {len(df_processed.columns)-1} fitur dengan {len(df_processed)} data lengkap.\")\n",
        "    \n",
        "    # Tambahkan informasi detail pembersihan\n",
        "    st.subheader(\"🔧 Detail Proses Pembersihan\")\n",
        "    \n",
        "    # Tabel perbandingan sebelum dan sesudah\n",
        "    comparison_data = []\n",
        "    for col in df_raw.columns:\n",
        "        missing_before = df_raw[col].isnull().sum()\n",
        "        if col in df_processed.columns:\n",
        "            missing_after = df_processed[col].isnull().sum()\n",
        "            status = '✅ Dibersihkan' if missing_before > 0 else '✅ Sudah Bersih'\n",
        "        else:\n",
        "            missing_after = '-'\n",
        "            status = '🗑️ Dihapus (Terlalu Banyak Missing)'\n",
        "        \n",
        "        comparison_data.append({\n",
        "            'Kolom': col,\n",
        "            'Missing Sebelum': missing_before,\n",
        "            'Missing Sesudah': missing_after,\n",
        "            'Status': status\n",
        "        })\n",
        "    \n",
        "    comparison_df = pd.DataFrame(comparison_data)\n",
        "    st.dataframe(comparison_df, use_container_width=True)\n",
        "    \n",
        "    # Visualisasi perbandingan distribusi data\n",
        "    st.subheader(\"📈 Perbandingan Distribusi Data\")\n",
        "    \n",
        "    # Pilih kolom untuk visualisasi (hanya yang tersisa setelah preprocessing)\n",
        "    remaining_numeric_cols = ['Glucose', 'BloodPressure', 'BMI']\n",
        "    selected_col = st.selectbox(\"Pilih kolom untuk perbandingan distribusi:\", remaining_numeric_cols)\n",
        "    \n",
        "    # Buat subplot untuk perbandingan\n",
        "    fig = make_subplots(\n",
        "        rows=1, cols=2,\n",
        "        subplot_titles=('Data Mentah (dengan Missing Values)', 'Data Setelah Dibersihkan'),\n",
        "        specs=[[{\"secondary_y\": False}, {\"secondary_y\": False}]]\n",
        "    )\n",
        "    \n",
        "    # Histogram data mentah (tanpa missing values untuk visualisasi)\n",
        "    raw_data_clean = df_raw[selected_col].dropna()\n",
        "    fig.add_trace(\n",
        "        go.Histogram(x=raw_data_clean, name=\"Data Mentah\", \n",
        "                    marker_color='lightblue', opacity=0.7, nbinsx=30),\n",
        "        row=1, col=1\n",
        "    )\n",
        "    \n",
        "    # Histogram data yang sudah dibersihkan\n",
        "    fig.add_trace(\n",
        "        go.Histogram(x=df_processed[selected_col], name=\"Data Dibersihkan\", \n",
        "                    marker_color='lightgreen', opacity=0.7, nbinsx=30),\n",
        "        row=1, col=2\n",
        "    )\n",
        "    \n",
        "    fig.update_layout(\n",
        "        title_text=f\"Perbandingan Distribusi {selected_col}\",\n",
        "        showlegend=False,\n",
        "        height=400\n",
        "    )\n",
        "    fig.update_xaxes(title_text=selected_col)\n",
        "    fig.update_yaxes(title_text=\"Frekuensi\")\n",
        "    \n",
        "    st.plotly_chart(fig, use_container_width=True)\n",
        "    \n",
        "    # Statistik deskriptif perbandingan\n",
        "    st.subheader(\"📈 Statistik Deskriptif Perbandingan\")\n",
        "    \n",
        "    col1, col2 = st.columns(2)\n",
        "    \n",
        "    with col1:\n",
        "        st.write(\"**Data Mentah (dengan missing values):**\")\n",
        "        stats_raw = df_raw[remaining_numeric_cols + ['Pregnancies', 'DiabetesPedigreeFunction', 'Age']].describe()\n",
        "        st.dataframe(stats_raw)\n",
        "    \n",
        "    with col2:\n",
        "        st.write(\"**Data Setelah Dibersihkan:**\")\n",
        "        stats_processed = df_processed[remaining_numeric_cols + ['Pregnancies', 'DiabetesPedigreeFunction', 'Age']].describe()\n",
        "        st.dataframe(stats_processed)\n",
        "    \n",
        "    # Visualisasi heatmap korelasi\n",
        "    st.subheader(\"🔥 Heatmap Korelasi Data Bersih\")\n",
        "    \n",
        "    # Hitung korelasi (hanya kolom yang tersisa)\n",
        "    corr_matrix = df_processed[remaining_numeric_cols + ['Pregnancies', 'DiabetesPedigreeFunction', 'Age', 'Outcome']].corr()\n",
        "    \n",
        "    # Buat heatmap menggunakan plotly\n",
        "    fig_heatmap = go.Figure(data=go.Heatmap(\n",
        "        z=corr_matrix.values,\n",
        "        x=corr_matrix.columns,\n",
        "        y=corr_matrix.columns,\n",
        "        colorscale='RdBu',\n",
        "        zmid=0,\n",
        "        text=np.round(corr_matrix.values, 2),\n",
        "        texttemplate=\"%{text}\",\n",
        "        textfont={\"size\": 10},\n",
        "        hoverongaps=False\n",
        "    ))\n",
        "    \n",
        "    fig_heatmap.update_layout(\n",
        "        title=\"Korelasi Antar Variabel (Data Bersih)\",\n",
        "        width=800,\n",
        "        height=600\n",
        "    )\n",
        "    \n",
        "    st.plotly_chart(fig_heatmap, use_container_width=True)\n",
        "    \n",
        "    # Box plot untuk deteksi outliers\n",
        "    st.subheader(\"📦 Box Plot - Deteksi Outliers (Data Bersih)\")\n",
        "    \n",
        "    selected_cols_box = st.multiselect(\n",
        "        \"Pilih kolom untuk box plot:\",\n",
        "        remaining_numeric_cols,\n",
        "        default=remaining_numeric_cols[:2]\n",
        "    )\n",
        "    \n",
        "    if selected_cols_box:\n",
        "        fig_box = go.Figure()\n",
        "        \n",
        "        for col in selected_cols_box:\n",
        "            fig_box.add_trace(go.Box(\n",
        "                y=df_processed[col],\n",
        "                name=col,\n",
        "                boxpoints='outliers'\n",
        "            ))\n",
        "        \n",
        "        fig_box.update_layout(\n",
        "            title=\"Box Plot - Deteksi Outliers\",\n",
        "            yaxis_title=\"Nilai\",\n",
        "            height=500\n",
        "        )\n",
        "        \n",
        "        st.plotly_chart(fig_box, use_container_width=True)\n",
        "\n",
        "# Load data mentah dan yang sudah diproses\n",
        "df_raw = load_raw_data()\n",
        "df_processed = load_processed_data()\n",
        "model = load_model()\n",
        "\n",
        "st.title(\"Dashboard Prediksi Diabetes 🩺\")\n",
        "st.markdown(\"Prediksi kemungkinan diabetes berdasarkan data medis menggunakan model Naive Bayes.\")\n",
        "\n",
        "# Tambahkan tab untuk memisahkan prediksi dan analisis data\n",
        "tab1, tab2, tab3 = st.tabs([\"🔮 Prediksi\", \"📊 Analisis Missing Values\", \"✨ Data Bersih & Visualisasi\"])\n",
        "\n",
        "with tab1:\n",
        "    col1, col2 = st.columns(2)\n",
        "    with col1:\n",
        "        pregnancies = st.slider(\"Pregnancies\", int(df_processed.Pregnancies.min()), int(df_processed.Pregnancies.max()), int(df_processed.Pregnancies.mean()))\n",
        "        glucose = st.slider(\"Glucose\", int(df_processed.Glucose.min()), int(df_processed.Glucose.max()), int(df_processed.Glucose.mean()))\n",
        "        bp = st.slider(\"BloodPressure\", int(df_processed.BloodPressure.min()), int(df_processed.BloodPressure.max()), int(df_processed.BloodPressure.mean()))\n",
        "\n",
        "    with col2:\n",
        "        bmi = st.slider(\"BMI\", float(df_processed.BMI.min()), float(df_processed.BMI.max()), float(df_processed.BMI.mean()))\n",
        "        dpf = st.slider(\"DiabetesPedigreeFunction\", float(df_processed.DiabetesPedigreeFunction.min()), float(df_processed.DiabetesPedigreeFunction.max()), float(df_processed.DiabetesPedigreeFunction.mean()))\n",
        "        age = st.slider(\"Age\", int(df_processed.Age.min()), int(df_processed.Age.max()), int(df_processed.Age.mean()))\n",
        "\n",
        "    # Pastikan input_df sesuai urutan & nama kolom saat training (tanpa Insulin dan SkinThickness)\n",
        "    feature_names = [\"Pregnancies\", \"Glucose\", \"BloodPressure\", \n",
        "                     \"BMI\", \"DiabetesPedigreeFunction\", \"Age\"]\n",
        "    input_df = pd.DataFrame([[pregnancies, glucose, bp, bmi, dpf, age]], columns=feature_names)\n",
        "\n",
        "    if st.button(\"Prediksi\"):\n",
        "        prediction = model.predict(input_df)[0]\n",
        "        probability = model.predict_proba(input_df)[0]\n",
        "\n",
        "        st.subheader(\"🔍 Hasil Prediksi\")\n",
        "        if prediction == 1:\n",
        "            st.error(f\"🩸 Diabetes dengan probabilitas {probability[1]:.2%}\")\n",
        "        else:\n",
        "            st.success(f\"✅ Tidak Diabetes dengan probabilitas {probability[0]:.2%}\")\n",
        "\n",
        "        st.plotly_chart(\n",
        "            go.Figure(data=[go.Bar(x=[\"Tidak Diabetes\", \"Diabetes\"], y=probability, marker_color=['blue', 'red'])])\n",
        "            .update_layout(title=\"Probabilitas Kelas\", yaxis=dict(range=[0,1]))\n",
        "        )\n",
        "\n",
        "        st.pyplot(plot_roc_curve(model, df_processed))\n",
        "\n",
        "        st.markdown(\"### 💡 Rekomendasi\")\n",
        "        if prediction == 1:\n",
        "            st.markdown(\"- Konsultasi dengan dokter segera.\\n- Pantau kadar gula darah secara rutin.\")\n",
        "        else:\n",
        "            st.markdown(\"- Jaga pola makan sehat.\\n- Lanjutkan gaya hidup aktif.\")\n",
        "\n",
        "with tab2:\n",
        "    st.markdown(\"### 📈 Analisis Dataset Mentah\")\n",
        "    \n",
        "    # Tampilkan informasi dasar dataset\n",
        "    col1, col2, col3 = st.columns(3)\n",
        "    with col1:\n",
        "        st.metric(\"Total Sampel\", len(df_raw))\n",
        "    with col2:\n",
        "        st.metric(\"Jumlah Fitur\", len(df_raw.columns) - 1)  # -1 untuk outcome\n",
        "    with col3:\n",
        "        st.metric(\"Total Missing Values\", df_raw.isnull().sum().sum())\n",
        "    \n",
        "    # Visualisasi missing values menggunakan data mentah\n",
        "    show_missing_values(df_raw)\n",
        "    \n",
        "    # Tambahan: Perbandingan sebelum dan sesudah preprocessing\n",
        "    st.markdown(\"---\")\n",
        "    st.subheader(\"⚖️ Perbandingan Data Sebelum dan Sesudah Preprocessing\")\n",
        "    \n",
        "    col1, col2 = st.columns(2)\n",
        "    with col1:\n",
        "        st.write(\"**Data Mentah (dengan missing values):**\")\n",
        "        st.write(f\"Total missing values: {df_raw.isnull().sum().sum()}\")\n",
        "        st.dataframe(df_raw.head())\n",
        "    \n",
        "    with col2:\n",
        "        st.write(\"**Data Setelah Preprocessing:**\")\n",
        "        st.write(f\"Total missing values: {df_processed.isnull().sum().sum()}\")\n",
        "        st.dataframe(df_processed.head())\n",
        "\n",
        "with tab3:\n",
        "    # Tampilkan analisis data yang sudah dibersihkan\n",
        "    show_cleaned_data_analysis(df_raw, df_processed)"
      ]
    },
    {
      "cell_type": "code",
      "execution_count": 254,
      "metadata": {},
      "outputs": [
        {
          "name": "stderr",
          "output_type": "stream",
          "text": [
            "t=2025-06-08T22:23:31+0700 lvl=warn msg=\"failed to check for update\" obj=updater err=\"Post \\\"https://update.equinox.io/check\\\": context deadline exceeded\"\n",
            "t=2025-06-08T22:23:36+0700 lvl=eror msg=\"failed to reconnect session\" obj=tunnels.session err=\"failed to dial ngrok server with address \\\"connect.us.ngrok-agent.com:443\\\": dial tcp: lookup connect.us.ngrok-agent.com: i/o timeout\"\n",
            "t=2025-06-08T22:23:47+0700 lvl=eror msg=\"failed to reconnect session\" obj=tunnels.session err=\"failed to send authentication request: failed to fetch CRL. errors encountered: timed out fetching CRL\"\n"
          ]
        },
        {
          "ename": "PyngrokNgrokError",
          "evalue": "The ngrok process errored on start: failed to send authentication request: failed to fetch CRL. errors encountered: timed out fetching CRL.",
          "output_type": "error",
          "traceback": [
            "\u001b[31m---------------------------------------------------------------------------\u001b[39m",
            "\u001b[31mPyngrokNgrokError\u001b[39m                         Traceback (most recent call last)",
            "\u001b[36mCell\u001b[39m\u001b[36m \u001b[39m\u001b[32mIn[254]\u001b[39m\u001b[32m, line 9\u001b[39m\n\u001b[32m      6\u001b[39m thread = threading.Thread(target=run_streamlit)\n\u001b[32m      7\u001b[39m thread.start()\n\u001b[32m----> \u001b[39m\u001b[32m9\u001b[39m public_url = \u001b[43mngrok\u001b[49m\u001b[43m.\u001b[49m\u001b[43mconnect\u001b[49m\u001b[43m(\u001b[49m\u001b[43maddr\u001b[49m\u001b[43m=\u001b[49m\u001b[33;43m'\u001b[39;49m\u001b[33;43m8501\u001b[39;49m\u001b[33;43m'\u001b[39;49m\u001b[43m)\u001b[49m\n\u001b[32m     10\u001b[39m \u001b[38;5;28mprint\u001b[39m(public_url)\n",
            "\u001b[36mFile \u001b[39m\u001b[32m~\\AppData\\Roaming\\Python\\Python313\\site-packages\\pyngrok\\ngrok.py:385\u001b[39m, in \u001b[36mconnect\u001b[39m\u001b[34m(addr, proto, name, pyngrok_config, **options)\u001b[39m\n\u001b[32m    381\u001b[39m _upgrade_legacy_params(pyngrok_config, options)\n\u001b[32m    383\u001b[39m logger.info(\u001b[33mf\u001b[39m\u001b[33m\"\u001b[39m\u001b[33mOpening tunnel named: \u001b[39m\u001b[38;5;132;01m{\u001b[39;00mname\u001b[38;5;132;01m}\u001b[39;00m\u001b[33m\"\u001b[39m)\n\u001b[32m--> \u001b[39m\u001b[32m385\u001b[39m api_url = \u001b[43mget_ngrok_process\u001b[49m\u001b[43m(\u001b[49m\u001b[43mpyngrok_config\u001b[49m\u001b[43m)\u001b[49m.api_url\n\u001b[32m    387\u001b[39m logger.debug(\u001b[33mf\u001b[39m\u001b[33m\"\u001b[39m\u001b[33mCreating tunnel with options: \u001b[39m\u001b[38;5;132;01m{\u001b[39;00moptions\u001b[38;5;132;01m}\u001b[39;00m\u001b[33m\"\u001b[39m)\n\u001b[32m    389\u001b[39m tunnel = NgrokTunnel(api_request(\u001b[33mf\u001b[39m\u001b[33m\"\u001b[39m\u001b[38;5;132;01m{\u001b[39;00mapi_url\u001b[38;5;132;01m}\u001b[39;00m\u001b[33m/api/tunnels\u001b[39m\u001b[33m\"\u001b[39m, method=\u001b[33m\"\u001b[39m\u001b[33mPOST\u001b[39m\u001b[33m\"\u001b[39m, data=options,\n\u001b[32m    390\u001b[39m                                  timeout=pyngrok_config.request_timeout),\n\u001b[32m    391\u001b[39m                      pyngrok_config, api_url)\n",
            "\u001b[36mFile \u001b[39m\u001b[32m~\\AppData\\Roaming\\Python\\Python313\\site-packages\\pyngrok\\ngrok.py:203\u001b[39m, in \u001b[36mget_ngrok_process\u001b[39m\u001b[34m(pyngrok_config)\u001b[39m\n\u001b[32m    199\u001b[39m     pyngrok_config = conf.get_default()\n\u001b[32m    201\u001b[39m install_ngrok(pyngrok_config)\n\u001b[32m--> \u001b[39m\u001b[32m203\u001b[39m \u001b[38;5;28;01mreturn\u001b[39;00m \u001b[43mprocess\u001b[49m\u001b[43m.\u001b[49m\u001b[43mget_process\u001b[49m\u001b[43m(\u001b[49m\u001b[43mpyngrok_config\u001b[49m\u001b[43m)\u001b[49m\n",
            "\u001b[36mFile \u001b[39m\u001b[32m~\\AppData\\Roaming\\Python\\Python313\\site-packages\\pyngrok\\process.py:271\u001b[39m, in \u001b[36mget_process\u001b[39m\u001b[34m(pyngrok_config)\u001b[39m\n\u001b[32m    268\u001b[39m \u001b[38;5;28;01mif\u001b[39;00m is_process_running(pyngrok_config.ngrok_path):\n\u001b[32m    269\u001b[39m     \u001b[38;5;28;01mreturn\u001b[39;00m _current_processes[pyngrok_config.ngrok_path]\n\u001b[32m--> \u001b[39m\u001b[32m271\u001b[39m \u001b[38;5;28;01mreturn\u001b[39;00m \u001b[43m_start_process\u001b[49m\u001b[43m(\u001b[49m\u001b[43mpyngrok_config\u001b[49m\u001b[43m)\u001b[49m\n",
            "\u001b[36mFile \u001b[39m\u001b[32m~\\AppData\\Roaming\\Python\\Python313\\site-packages\\pyngrok\\process.py:447\u001b[39m, in \u001b[36m_start_process\u001b[39m\u001b[34m(pyngrok_config)\u001b[39m\n\u001b[32m    444\u001b[39m kill_process(pyngrok_config.ngrok_path)\n\u001b[32m    446\u001b[39m \u001b[38;5;28;01mif\u001b[39;00m ngrok_process.startup_error \u001b[38;5;129;01mis\u001b[39;00m \u001b[38;5;129;01mnot\u001b[39;00m \u001b[38;5;28;01mNone\u001b[39;00m:\n\u001b[32m--> \u001b[39m\u001b[32m447\u001b[39m     \u001b[38;5;28;01mraise\u001b[39;00m PyngrokNgrokError(\u001b[33mf\u001b[39m\u001b[33m\"\u001b[39m\u001b[33mThe ngrok process errored on start: \u001b[39m\u001b[38;5;132;01m{\u001b[39;00mngrok_process.startup_error\u001b[38;5;132;01m}\u001b[39;00m\u001b[33m.\u001b[39m\u001b[33m\"\u001b[39m,\n\u001b[32m    448\u001b[39m                             ngrok_process.logs,\n\u001b[32m    449\u001b[39m                             ngrok_process.startup_error)\n\u001b[32m    450\u001b[39m \u001b[38;5;28;01melse\u001b[39;00m:\n\u001b[32m    451\u001b[39m     \u001b[38;5;28;01mraise\u001b[39;00m PyngrokNgrokError(\u001b[33m\"\u001b[39m\u001b[33mThe ngrok process was unable to start.\u001b[39m\u001b[33m\"\u001b[39m, ngrok_process.logs)\n",
            "\u001b[31mPyngrokNgrokError\u001b[39m: The ngrok process errored on start: failed to send authentication request: failed to fetch CRL. errors encountered: timed out fetching CRL."
          ]
        }
      ],
      "source": [
        "from pyngrok import ngrok\n",
        "import threading\n",
        "import os\n",
        "def run_streamlit():\n",
        "  os.system(\"streamlit run app.py --server.port 8501\")\n",
        "thread = threading.Thread(target=run_streamlit)\n",
        "thread.start()\n",
        "\n",
        "public_url = ngrok.connect(addr='8501')\n",
        "print(public_url)"
      ]
    }
  ],
  "metadata": {
    "colab": {
      "provenance": []
    },
    "kernelspec": {
      "display_name": "Python 3",
      "name": "python3"
    },
    "language_info": {
      "codemirror_mode": {
        "name": "ipython",
        "version": 3
      },
      "file_extension": ".py",
      "mimetype": "text/x-python",
      "name": "python",
      "nbconvert_exporter": "python",
      "pygments_lexer": "ipython3",
      "version": "3.13.3"
    }
  },
  "nbformat": 4,
  "nbformat_minor": 0
}
